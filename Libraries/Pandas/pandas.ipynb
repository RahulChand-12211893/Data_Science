{
 "cells": [
  {
   "cell_type": "markdown",
   "id": "8675df89",
   "metadata": {},
   "source": [
    "### What is Pandas?\n",
    "- Pandas is a fast, powerful, flexible and easy to use open source data analysis and manipulation tool, build on top of the Python programming language.\n"
   ]
  },
  {
   "cell_type": "markdown",
   "id": "c11e4334",
   "metadata": {},
   "source": [
    "\n",
    "### Pandas Series\n",
    "- A pandas Series is like a column in a table. It is a 1-D array holding data of any type."
   ]
  },
  {
   "cell_type": "code",
   "execution_count": 1,
   "id": "447b9a43",
   "metadata": {},
   "outputs": [],
   "source": [
    "import numpy as np\n",
    "import pandas as pd"
   ]
  },
  {
   "cell_type": "markdown",
   "id": "f990f339",
   "metadata": {},
   "source": [
    "### Series from List"
   ]
  },
  {
   "cell_type": "code",
   "execution_count": 6,
   "id": "655fae29",
   "metadata": {},
   "outputs": [
    {
     "data": {
      "text/plain": [
       "0        India\n",
       "1     Pakistan\n",
       "2          USA\n",
       "3        Neapl\n",
       "4    Sri lanka\n",
       "dtype: object"
      ]
     },
     "execution_count": 6,
     "metadata": {},
     "output_type": "execute_result"
    }
   ],
   "source": [
    "#String\n",
    "''' Values are manually provided, but index are given automatically'''\n",
    "country = ['India', 'Pakistan', 'USA', 'Neapl', 'Sri lanka']\n",
    "pd.Series(country)\n",
    "# It gives info about the index and values\n"
   ]
  },
  {
   "cell_type": "code",
   "execution_count": 7,
   "id": "cd12bd74",
   "metadata": {},
   "outputs": [
    {
     "data": {
      "text/plain": [
       "0    13\n",
       "1    24\n",
       "2    69\n",
       "3    45\n",
       "4    71\n",
       "dtype: int64"
      ]
     },
     "execution_count": 7,
     "metadata": {},
     "output_type": "execute_result"
    }
   ],
   "source": [
    "#integers\n",
    "runs = [13,24,69,45,71]\n",
    "pd.Series(runs)"
   ]
  },
  {
   "cell_type": "code",
   "execution_count": 8,
   "id": "5f0bd219",
   "metadata": {},
   "outputs": [
    {
     "data": {
      "text/plain": [
       "maths       67\n",
       "english     57\n",
       "science     89\n",
       "hindi      100\n",
       "dtype: int64"
      ]
     },
     "execution_count": 8,
     "metadata": {},
     "output_type": "execute_result"
    }
   ],
   "source": [
    "#custom index\n",
    "marks = [67,57,89,100]\n",
    "subject = ['maths', 'english', 'science', 'hindi']\n",
    "pd.Series(marks, index = subject)"
   ]
  },
  {
   "cell_type": "code",
   "execution_count": 11,
   "id": "fc6a7acf",
   "metadata": {},
   "outputs": [
    {
     "data": {
      "text/plain": [
       "maths       67\n",
       "english     57\n",
       "science     89\n",
       "hindi      100\n",
       "Name: Rahul ki file, dtype: int64"
      ]
     },
     "execution_count": 11,
     "metadata": {},
     "output_type": "execute_result"
    }
   ],
   "source": [
    "#Setting a name\n",
    "marks1 = pd.Series(marks, index = subject, name = \"Rahul ki file\")\n",
    "marks1"
   ]
  },
  {
   "cell_type": "markdown",
   "id": "e329815b",
   "metadata": {},
   "source": [
    "### Series from dictionary"
   ]
  },
  {
   "cell_type": "code",
   "execution_count": 17,
   "id": "210e2c23",
   "metadata": {},
   "outputs": [
    {
     "data": {
      "text/plain": [
       "maths       67\n",
       "english     57\n",
       "science     89\n",
       "hindi      100\n",
       "Name: Rahul ke marks, dtype: int64"
      ]
     },
     "execution_count": 17,
     "metadata": {},
     "output_type": "execute_result"
    }
   ],
   "source": [
    "marks = {'maths': 67, \n",
    "        'english':57,\n",
    "        'science':89,\n",
    "        'hindi':100}\n",
    "marks_series = pd.Series(marks, name = 'Rahul ke marks')\n",
    "marks_series\n",
    "#HHere name is the attribute of the marks"
   ]
  },
  {
   "cell_type": "markdown",
   "id": "ec600e00",
   "metadata": {},
   "source": [
    "## Series attribute"
   ]
  },
  {
   "cell_type": "code",
   "execution_count": 18,
   "id": "c9f2422d",
   "metadata": {},
   "outputs": [
    {
     "data": {
      "text/plain": [
       "4"
      ]
     },
     "execution_count": 18,
     "metadata": {},
     "output_type": "execute_result"
    }
   ],
   "source": [
    "# Size\n",
    "marks_series.size"
   ]
  },
  {
   "cell_type": "code",
   "execution_count": 19,
   "id": "ae5e5d2c",
   "metadata": {},
   "outputs": [
    {
     "data": {
      "text/plain": [
       "dtype('int64')"
      ]
     },
     "execution_count": 19,
     "metadata": {},
     "output_type": "execute_result"
    }
   ],
   "source": [
    "#dtype\n",
    "marks_series.dtype"
   ]
  },
  {
   "cell_type": "code",
   "execution_count": 20,
   "id": "5aa99953",
   "metadata": {},
   "outputs": [
    {
     "data": {
      "text/plain": [
       "'Rahul ke marks'"
      ]
     },
     "execution_count": 20,
     "metadata": {},
     "output_type": "execute_result"
    }
   ],
   "source": [
    "#name\n",
    "marks_series.name"
   ]
  },
  {
   "cell_type": "code",
   "execution_count": 23,
   "id": "804dfdf6",
   "metadata": {},
   "outputs": [
    {
     "data": {
      "text/plain": [
       "False"
      ]
     },
     "execution_count": 23,
     "metadata": {},
     "output_type": "execute_result"
    }
   ],
   "source": [
    "#is unique \n",
    "marks_series.is_unique\n",
    "pd.Series([1,1,2,3,4,5]).is_unique\n",
    "#return false, beacuse 1 is repeating twice"
   ]
  },
  {
   "cell_type": "code",
   "execution_count": 25,
   "id": "a604ba0c",
   "metadata": {},
   "outputs": [
    {
     "data": {
      "text/plain": [
       "Index(['maths', 'english', 'science', 'hindi'], dtype='object')"
      ]
     },
     "execution_count": 25,
     "metadata": {},
     "output_type": "execute_result"
    }
   ],
   "source": [
    "#index\n",
    "marks_series.index"
   ]
  },
  {
   "cell_type": "code",
   "execution_count": 26,
   "id": "3c82ca1b",
   "metadata": {},
   "outputs": [
    {
     "data": {
      "text/plain": [
       "array([ 67,  57,  89, 100], dtype=int64)"
      ]
     },
     "execution_count": 26,
     "metadata": {},
     "output_type": "execute_result"
    }
   ],
   "source": [
    "#values\n",
    "marks_series.values"
   ]
  },
  {
   "cell_type": "markdown",
   "id": "3df1ef1c",
   "metadata": {},
   "source": [
    "### Series using read_csv"
   ]
  },
  {
   "cell_type": "code",
   "execution_count": 28,
   "id": "6a160359",
   "metadata": {},
   "outputs": [
    {
     "data": {
      "text/plain": [
       "pandas.core.frame.DataFrame"
      ]
     },
     "execution_count": 28,
     "metadata": {},
     "output_type": "execute_result"
    }
   ],
   "source": [
    "#with one column\n",
    "type(pd.read_csv('BollywoodActorRanking.csv'))"
   ]
  },
  {
   "cell_type": "code",
   "execution_count": 40,
   "id": "f43a3262",
   "metadata": {},
   "outputs": [
    {
     "name": "stderr",
     "output_type": "stream",
     "text": [
      "C:\\Users\\rahul\\AppData\\Local\\Temp\\ipykernel_15896\\3008530259.py:1: FutureWarning: The squeeze argument has been deprecated and will be removed in a future version. Append .squeeze(\"columns\") to the call to squeeze.\n",
      "\n",
      "\n",
      "  data = pd.read_csv('BollywoodActorRanking.csv', squeeze=True)\n"
     ]
    },
    {
     "data": {
      "text/html": [
       "<div>\n",
       "<style scoped>\n",
       "    .dataframe tbody tr th:only-of-type {\n",
       "        vertical-align: middle;\n",
       "    }\n",
       "\n",
       "    .dataframe tbody tr th {\n",
       "        vertical-align: top;\n",
       "    }\n",
       "\n",
       "    .dataframe thead th {\n",
       "        text-align: right;\n",
       "    }\n",
       "</style>\n",
       "<table border=\"1\" class=\"dataframe\">\n",
       "  <thead>\n",
       "    <tr style=\"text-align: right;\">\n",
       "      <th></th>\n",
       "      <th>actorId</th>\n",
       "      <th>actorName</th>\n",
       "      <th>movieCount</th>\n",
       "      <th>ratingSum</th>\n",
       "      <th>normalizedMovieRank</th>\n",
       "      <th>googleHits</th>\n",
       "      <th>normalizedGoogleRank</th>\n",
       "      <th>normalizedRating</th>\n",
       "    </tr>\n",
       "  </thead>\n",
       "  <tbody>\n",
       "    <tr>\n",
       "      <th>0</th>\n",
       "      <td>373</td>\n",
       "      <td>Aamir Khan</td>\n",
       "      <td>11</td>\n",
       "      <td>1170</td>\n",
       "      <td>9.44862</td>\n",
       "      <td>2460000</td>\n",
       "      <td>7.34283</td>\n",
       "      <td>10.00000</td>\n",
       "    </tr>\n",
       "    <tr>\n",
       "      <th>1</th>\n",
       "      <td>374</td>\n",
       "      <td>Shah Rukh Khan</td>\n",
       "      <td>23</td>\n",
       "      <td>2000</td>\n",
       "      <td>7.55009</td>\n",
       "      <td>2670000</td>\n",
       "      <td>7.88458</td>\n",
       "      <td>9.22674</td>\n",
       "    </tr>\n",
       "    <tr>\n",
       "      <th>2</th>\n",
       "      <td>375</td>\n",
       "      <td>Salman Khan</td>\n",
       "      <td>36</td>\n",
       "      <td>2340</td>\n",
       "      <td>5.40217</td>\n",
       "      <td>3490000</td>\n",
       "      <td>10.00000</td>\n",
       "      <td>9.20821</td>\n",
       "    </tr>\n",
       "    <tr>\n",
       "      <th>3</th>\n",
       "      <td>376</td>\n",
       "      <td>Katrina Kaif</td>\n",
       "      <td>17</td>\n",
       "      <td>1640</td>\n",
       "      <td>8.48082</td>\n",
       "      <td>2120000</td>\n",
       "      <td>6.46570</td>\n",
       "      <td>8.94852</td>\n",
       "    </tr>\n",
       "    <tr>\n",
       "      <th>4</th>\n",
       "      <td>377</td>\n",
       "      <td>Deepika Padukone</td>\n",
       "      <td>16</td>\n",
       "      <td>1080</td>\n",
       "      <td>5.64674</td>\n",
       "      <td>3000000</td>\n",
       "      <td>8.73591</td>\n",
       "      <td>8.62716</td>\n",
       "    </tr>\n",
       "    <tr>\n",
       "      <th>...</th>\n",
       "      <td>...</td>\n",
       "      <td>...</td>\n",
       "      <td>...</td>\n",
       "      <td>...</td>\n",
       "      <td>...</td>\n",
       "      <td>...</td>\n",
       "      <td>...</td>\n",
       "      <td>...</td>\n",
       "    </tr>\n",
       "    <tr>\n",
       "      <th>296</th>\n",
       "      <td>669</td>\n",
       "      <td>Achint Kaur</td>\n",
       "      <td>4</td>\n",
       "      <td>80</td>\n",
       "      <td>1.00000</td>\n",
       "      <td>0</td>\n",
       "      <td>NaN</td>\n",
       "      <td>1.00000</td>\n",
       "    </tr>\n",
       "    <tr>\n",
       "      <th>297</th>\n",
       "      <td>670</td>\n",
       "      <td>Yuvika Chaudhry</td>\n",
       "      <td>5</td>\n",
       "      <td>100</td>\n",
       "      <td>1.00000</td>\n",
       "      <td>0</td>\n",
       "      <td>NaN</td>\n",
       "      <td>1.00000</td>\n",
       "    </tr>\n",
       "    <tr>\n",
       "      <th>298</th>\n",
       "      <td>671</td>\n",
       "      <td>Pankaj Berry</td>\n",
       "      <td>5</td>\n",
       "      <td>100</td>\n",
       "      <td>1.00000</td>\n",
       "      <td>0</td>\n",
       "      <td>NaN</td>\n",
       "      <td>1.00000</td>\n",
       "    </tr>\n",
       "    <tr>\n",
       "      <th>299</th>\n",
       "      <td>672</td>\n",
       "      <td>Varun Dhawan</td>\n",
       "      <td>0</td>\n",
       "      <td>0</td>\n",
       "      <td>NaN</td>\n",
       "      <td>0</td>\n",
       "      <td>NaN</td>\n",
       "      <td>4.74000</td>\n",
       "    </tr>\n",
       "    <tr>\n",
       "      <th>300</th>\n",
       "      <td>673</td>\n",
       "      <td>Nargis Fakhri</td>\n",
       "      <td>0</td>\n",
       "      <td>0</td>\n",
       "      <td>NaN</td>\n",
       "      <td>0</td>\n",
       "      <td>NaN</td>\n",
       "      <td>4.80000</td>\n",
       "    </tr>\n",
       "  </tbody>\n",
       "</table>\n",
       "<p>301 rows × 8 columns</p>\n",
       "</div>"
      ],
      "text/plain": [
       "     actorId         actorName  movieCount  ratingSum  normalizedMovieRank  \\\n",
       "0        373        Aamir Khan          11       1170              9.44862   \n",
       "1        374    Shah Rukh Khan          23       2000              7.55009   \n",
       "2        375       Salman Khan          36       2340              5.40217   \n",
       "3        376      Katrina Kaif          17       1640              8.48082   \n",
       "4        377  Deepika Padukone          16       1080              5.64674   \n",
       "..       ...               ...         ...        ...                  ...   \n",
       "296      669       Achint Kaur           4         80              1.00000   \n",
       "297      670   Yuvika Chaudhry           5        100              1.00000   \n",
       "298      671      Pankaj Berry           5        100              1.00000   \n",
       "299      672      Varun Dhawan           0          0                  NaN   \n",
       "300      673     Nargis Fakhri           0          0                  NaN   \n",
       "\n",
       "     googleHits  normalizedGoogleRank  normalizedRating  \n",
       "0       2460000               7.34283          10.00000  \n",
       "1       2670000               7.88458           9.22674  \n",
       "2       3490000              10.00000           9.20821  \n",
       "3       2120000               6.46570           8.94852  \n",
       "4       3000000               8.73591           8.62716  \n",
       "..          ...                   ...               ...  \n",
       "296           0                   NaN           1.00000  \n",
       "297           0                   NaN           1.00000  \n",
       "298           0                   NaN           1.00000  \n",
       "299           0                   NaN           4.74000  \n",
       "300           0                   NaN           4.80000  \n",
       "\n",
       "[301 rows x 8 columns]"
      ]
     },
     "execution_count": 40,
     "metadata": {},
     "output_type": "execute_result"
    }
   ],
   "source": [
    "data = pd.read_csv('BollywoodActorRanking.csv', squeeze=True)\n",
    "data"
   ]
  },
  {
   "cell_type": "code",
   "execution_count": 38,
   "id": "41dfffc7",
   "metadata": {},
   "outputs": [
    {
     "data": {
      "text/plain": [
       "pandas.core.frame.DataFrame"
      ]
     },
     "execution_count": 38,
     "metadata": {},
     "output_type": "execute_result"
    }
   ],
   "source": [
    "type(subs)\n",
    "#here my dtpe is still dataframe, because i have multiple columns here"
   ]
  },
  {
   "cell_type": "code",
   "execution_count": 39,
   "id": "c5d16105",
   "metadata": {},
   "outputs": [
    {
     "data": {
      "text/plain": [
       "' with 2 columns'"
      ]
     },
     "execution_count": 39,
     "metadata": {},
     "output_type": "execute_result"
    }
   ],
   "source": [
    "''' with 2 columns'''\n",
    "#subs1 = pd.read_csv('BollywoodActorRanking.csv',index_col = 'column name' squeeze=True)\n"
   ]
  },
  {
   "cell_type": "code",
   "execution_count": 41,
   "id": "7dd08686",
   "metadata": {},
   "outputs": [
    {
     "data": {
      "text/html": [
       "<div>\n",
       "<style scoped>\n",
       "    .dataframe tbody tr th:only-of-type {\n",
       "        vertical-align: middle;\n",
       "    }\n",
       "\n",
       "    .dataframe tbody tr th {\n",
       "        vertical-align: top;\n",
       "    }\n",
       "\n",
       "    .dataframe thead th {\n",
       "        text-align: right;\n",
       "    }\n",
       "</style>\n",
       "<table border=\"1\" class=\"dataframe\">\n",
       "  <thead>\n",
       "    <tr style=\"text-align: right;\">\n",
       "      <th></th>\n",
       "      <th>actorId</th>\n",
       "      <th>actorName</th>\n",
       "      <th>movieCount</th>\n",
       "      <th>ratingSum</th>\n",
       "      <th>normalizedMovieRank</th>\n",
       "      <th>googleHits</th>\n",
       "      <th>normalizedGoogleRank</th>\n",
       "      <th>normalizedRating</th>\n",
       "    </tr>\n",
       "  </thead>\n",
       "  <tbody>\n",
       "    <tr>\n",
       "      <th>0</th>\n",
       "      <td>373</td>\n",
       "      <td>Aamir Khan</td>\n",
       "      <td>11</td>\n",
       "      <td>1170</td>\n",
       "      <td>9.44862</td>\n",
       "      <td>2460000</td>\n",
       "      <td>7.34283</td>\n",
       "      <td>10.00000</td>\n",
       "    </tr>\n",
       "    <tr>\n",
       "      <th>1</th>\n",
       "      <td>374</td>\n",
       "      <td>Shah Rukh Khan</td>\n",
       "      <td>23</td>\n",
       "      <td>2000</td>\n",
       "      <td>7.55009</td>\n",
       "      <td>2670000</td>\n",
       "      <td>7.88458</td>\n",
       "      <td>9.22674</td>\n",
       "    </tr>\n",
       "    <tr>\n",
       "      <th>2</th>\n",
       "      <td>375</td>\n",
       "      <td>Salman Khan</td>\n",
       "      <td>36</td>\n",
       "      <td>2340</td>\n",
       "      <td>5.40217</td>\n",
       "      <td>3490000</td>\n",
       "      <td>10.00000</td>\n",
       "      <td>9.20821</td>\n",
       "    </tr>\n",
       "    <tr>\n",
       "      <th>3</th>\n",
       "      <td>376</td>\n",
       "      <td>Katrina Kaif</td>\n",
       "      <td>17</td>\n",
       "      <td>1640</td>\n",
       "      <td>8.48082</td>\n",
       "      <td>2120000</td>\n",
       "      <td>6.46570</td>\n",
       "      <td>8.94852</td>\n",
       "    </tr>\n",
       "    <tr>\n",
       "      <th>4</th>\n",
       "      <td>377</td>\n",
       "      <td>Deepika Padukone</td>\n",
       "      <td>16</td>\n",
       "      <td>1080</td>\n",
       "      <td>5.64674</td>\n",
       "      <td>3000000</td>\n",
       "      <td>8.73591</td>\n",
       "      <td>8.62716</td>\n",
       "    </tr>\n",
       "  </tbody>\n",
       "</table>\n",
       "</div>"
      ],
      "text/plain": [
       "   actorId         actorName  movieCount  ratingSum  normalizedMovieRank  \\\n",
       "0      373        Aamir Khan          11       1170              9.44862   \n",
       "1      374    Shah Rukh Khan          23       2000              7.55009   \n",
       "2      375       Salman Khan          36       2340              5.40217   \n",
       "3      376      Katrina Kaif          17       1640              8.48082   \n",
       "4      377  Deepika Padukone          16       1080              5.64674   \n",
       "\n",
       "   googleHits  normalizedGoogleRank  normalizedRating  \n",
       "0     2460000               7.34283          10.00000  \n",
       "1     2670000               7.88458           9.22674  \n",
       "2     3490000              10.00000           9.20821  \n",
       "3     2120000               6.46570           8.94852  \n",
       "4     3000000               8.73591           8.62716  "
      ]
     },
     "execution_count": 41,
     "metadata": {},
     "output_type": "execute_result"
    }
   ],
   "source": [
    "# head \n",
    "data.head()\n",
    "#By default provide the top 5 values in your dataframe, but can be changed the value"
   ]
  },
  {
   "cell_type": "code",
   "execution_count": 44,
   "id": "5a6d48f6",
   "metadata": {},
   "outputs": [
    {
     "data": {
      "text/html": [
       "<div>\n",
       "<style scoped>\n",
       "    .dataframe tbody tr th:only-of-type {\n",
       "        vertical-align: middle;\n",
       "    }\n",
       "\n",
       "    .dataframe tbody tr th {\n",
       "        vertical-align: top;\n",
       "    }\n",
       "\n",
       "    .dataframe thead th {\n",
       "        text-align: right;\n",
       "    }\n",
       "</style>\n",
       "<table border=\"1\" class=\"dataframe\">\n",
       "  <thead>\n",
       "    <tr style=\"text-align: right;\">\n",
       "      <th></th>\n",
       "      <th>actorId</th>\n",
       "      <th>actorName</th>\n",
       "      <th>movieCount</th>\n",
       "      <th>ratingSum</th>\n",
       "      <th>normalizedMovieRank</th>\n",
       "      <th>googleHits</th>\n",
       "      <th>normalizedGoogleRank</th>\n",
       "      <th>normalizedRating</th>\n",
       "    </tr>\n",
       "  </thead>\n",
       "  <tbody>\n",
       "    <tr>\n",
       "      <th>101</th>\n",
       "      <td>474</td>\n",
       "      <td>Ayesha Takia</td>\n",
       "      <td>16</td>\n",
       "      <td>480</td>\n",
       "      <td>1.97826</td>\n",
       "      <td>570000</td>\n",
       "      <td>2.46704</td>\n",
       "      <td>2.96358</td>\n",
       "    </tr>\n",
       "  </tbody>\n",
       "</table>\n",
       "</div>"
      ],
      "text/plain": [
       "     actorId     actorName  movieCount  ratingSum  normalizedMovieRank  \\\n",
       "101      474  Ayesha Takia          16        480              1.97826   \n",
       "\n",
       "     googleHits  normalizedGoogleRank  normalizedRating  \n",
       "101      570000               2.46704           2.96358  "
      ]
     },
     "execution_count": 44,
     "metadata": {},
     "output_type": "execute_result"
    }
   ],
   "source": [
    "#sample\n",
    "# random selection\n",
    "data.sample()\n",
    "# data.sample(5)"
   ]
  },
  {
   "cell_type": "code",
   "execution_count": 45,
   "id": "de5ea737",
   "metadata": {},
   "outputs": [
    {
     "data": {
      "text/html": [
       "<div>\n",
       "<style scoped>\n",
       "    .dataframe tbody tr th:only-of-type {\n",
       "        vertical-align: middle;\n",
       "    }\n",
       "\n",
       "    .dataframe tbody tr th {\n",
       "        vertical-align: top;\n",
       "    }\n",
       "\n",
       "    .dataframe thead th {\n",
       "        text-align: right;\n",
       "    }\n",
       "</style>\n",
       "<table border=\"1\" class=\"dataframe\">\n",
       "  <thead>\n",
       "    <tr style=\"text-align: right;\">\n",
       "      <th></th>\n",
       "      <th>actorId</th>\n",
       "      <th>actorName</th>\n",
       "      <th>movieCount</th>\n",
       "      <th>ratingSum</th>\n",
       "      <th>normalizedMovieRank</th>\n",
       "      <th>googleHits</th>\n",
       "      <th>normalizedGoogleRank</th>\n",
       "      <th>normalizedRating</th>\n",
       "    </tr>\n",
       "  </thead>\n",
       "  <tbody>\n",
       "    <tr>\n",
       "      <th>0</th>\n",
       "      <td>373</td>\n",
       "      <td>Aamir Khan</td>\n",
       "      <td>11</td>\n",
       "      <td>1170</td>\n",
       "      <td>9.44862</td>\n",
       "      <td>2460000</td>\n",
       "      <td>7.34283</td>\n",
       "      <td>10.00000</td>\n",
       "    </tr>\n",
       "    <tr>\n",
       "      <th>1</th>\n",
       "      <td>374</td>\n",
       "      <td>Shah Rukh Khan</td>\n",
       "      <td>23</td>\n",
       "      <td>2000</td>\n",
       "      <td>7.55009</td>\n",
       "      <td>2670000</td>\n",
       "      <td>7.88458</td>\n",
       "      <td>9.22674</td>\n",
       "    </tr>\n",
       "    <tr>\n",
       "      <th>2</th>\n",
       "      <td>375</td>\n",
       "      <td>Salman Khan</td>\n",
       "      <td>36</td>\n",
       "      <td>2340</td>\n",
       "      <td>5.40217</td>\n",
       "      <td>3490000</td>\n",
       "      <td>10.00000</td>\n",
       "      <td>9.20821</td>\n",
       "    </tr>\n",
       "    <tr>\n",
       "      <th>3</th>\n",
       "      <td>376</td>\n",
       "      <td>Katrina Kaif</td>\n",
       "      <td>17</td>\n",
       "      <td>1640</td>\n",
       "      <td>8.48082</td>\n",
       "      <td>2120000</td>\n",
       "      <td>6.46570</td>\n",
       "      <td>8.94852</td>\n",
       "    </tr>\n",
       "    <tr>\n",
       "      <th>4</th>\n",
       "      <td>377</td>\n",
       "      <td>Deepika Padukone</td>\n",
       "      <td>16</td>\n",
       "      <td>1080</td>\n",
       "      <td>5.64674</td>\n",
       "      <td>3000000</td>\n",
       "      <td>8.73591</td>\n",
       "      <td>8.62716</td>\n",
       "    </tr>\n",
       "    <tr>\n",
       "      <th>...</th>\n",
       "      <td>...</td>\n",
       "      <td>...</td>\n",
       "      <td>...</td>\n",
       "      <td>...</td>\n",
       "      <td>...</td>\n",
       "      <td>...</td>\n",
       "      <td>...</td>\n",
       "      <td>...</td>\n",
       "    </tr>\n",
       "    <tr>\n",
       "      <th>296</th>\n",
       "      <td>669</td>\n",
       "      <td>Achint Kaur</td>\n",
       "      <td>4</td>\n",
       "      <td>80</td>\n",
       "      <td>1.00000</td>\n",
       "      <td>0</td>\n",
       "      <td>NaN</td>\n",
       "      <td>1.00000</td>\n",
       "    </tr>\n",
       "    <tr>\n",
       "      <th>297</th>\n",
       "      <td>670</td>\n",
       "      <td>Yuvika Chaudhry</td>\n",
       "      <td>5</td>\n",
       "      <td>100</td>\n",
       "      <td>1.00000</td>\n",
       "      <td>0</td>\n",
       "      <td>NaN</td>\n",
       "      <td>1.00000</td>\n",
       "    </tr>\n",
       "    <tr>\n",
       "      <th>298</th>\n",
       "      <td>671</td>\n",
       "      <td>Pankaj Berry</td>\n",
       "      <td>5</td>\n",
       "      <td>100</td>\n",
       "      <td>1.00000</td>\n",
       "      <td>0</td>\n",
       "      <td>NaN</td>\n",
       "      <td>1.00000</td>\n",
       "    </tr>\n",
       "    <tr>\n",
       "      <th>299</th>\n",
       "      <td>672</td>\n",
       "      <td>Varun Dhawan</td>\n",
       "      <td>0</td>\n",
       "      <td>0</td>\n",
       "      <td>NaN</td>\n",
       "      <td>0</td>\n",
       "      <td>NaN</td>\n",
       "      <td>4.74000</td>\n",
       "    </tr>\n",
       "    <tr>\n",
       "      <th>300</th>\n",
       "      <td>673</td>\n",
       "      <td>Nargis Fakhri</td>\n",
       "      <td>0</td>\n",
       "      <td>0</td>\n",
       "      <td>NaN</td>\n",
       "      <td>0</td>\n",
       "      <td>NaN</td>\n",
       "      <td>4.80000</td>\n",
       "    </tr>\n",
       "  </tbody>\n",
       "</table>\n",
       "<p>301 rows × 8 columns</p>\n",
       "</div>"
      ],
      "text/plain": [
       "     actorId         actorName  movieCount  ratingSum  normalizedMovieRank  \\\n",
       "0        373        Aamir Khan          11       1170              9.44862   \n",
       "1        374    Shah Rukh Khan          23       2000              7.55009   \n",
       "2        375       Salman Khan          36       2340              5.40217   \n",
       "3        376      Katrina Kaif          17       1640              8.48082   \n",
       "4        377  Deepika Padukone          16       1080              5.64674   \n",
       "..       ...               ...         ...        ...                  ...   \n",
       "296      669       Achint Kaur           4         80              1.00000   \n",
       "297      670   Yuvika Chaudhry           5        100              1.00000   \n",
       "298      671      Pankaj Berry           5        100              1.00000   \n",
       "299      672      Varun Dhawan           0          0                  NaN   \n",
       "300      673     Nargis Fakhri           0          0                  NaN   \n",
       "\n",
       "     googleHits  normalizedGoogleRank  normalizedRating  \n",
       "0       2460000               7.34283          10.00000  \n",
       "1       2670000               7.88458           9.22674  \n",
       "2       3490000              10.00000           9.20821  \n",
       "3       2120000               6.46570           8.94852  \n",
       "4       3000000               8.73591           8.62716  \n",
       "..          ...                   ...               ...  \n",
       "296           0                   NaN           1.00000  \n",
       "297           0                   NaN           1.00000  \n",
       "298           0                   NaN           1.00000  \n",
       "299           0                   NaN           4.74000  \n",
       "300           0                   NaN           4.80000  \n",
       "\n",
       "[301 rows x 8 columns]"
      ]
     },
     "execution_count": 45,
     "metadata": {},
     "output_type": "execute_result"
    }
   ],
   "source": [
    "data"
   ]
  },
  {
   "cell_type": "code",
   "execution_count": 53,
   "id": "318d46dc",
   "metadata": {},
   "outputs": [
    {
     "data": {
      "text/plain": [
       "actorId  actorName       movieCount  ratingSum  normalizedMovieRank  googleHits  normalizedGoogleRank  normalizedRating\n",
       "373      Aamir Khan      11          1170       9.44862              2460000     7.34283               10.00000            1\n",
       "525      Mahie Gill      7           230        2.25776              111000      1.28292               2.44801             1\n",
       "511      Vrajesh Hirjee  8           300        2.71196              12300       1.02830               2.56175             1\n",
       "514      Arbaaz Khan     17          530        2.09335              235000      1.60282               2.53662             1\n",
       "517      Udita Goswami   9           280        2.08696              229000      1.58734               2.52416             1\n",
       "                                                                                                                          ..\n",
       "443      Sharman Joshi   15          820        4.39130              129000      1.32936               3.69044             1\n",
       "444      Boman Irani     19          880        3.57437              416000      2.06976               3.64682             1\n",
       "445      Satish Shah     11          510        3.57905              385000      1.98978               3.60391             1\n",
       "446      Arshad Warsi    22          1100       3.93478              217000      1.55638               3.55964             1\n",
       "608      Snehal Dabi     7           140        1.00000              1330        1.00000               1.56993             1\n",
       "Length: 189, dtype: int64"
      ]
     },
     "execution_count": 53,
     "metadata": {},
     "output_type": "execute_result"
    }
   ],
   "source": [
    "# values_counts -> data\n",
    "data.value_counts()"
   ]
  },
  {
   "cell_type": "code",
   "execution_count": 58,
   "id": "a05a75e8",
   "metadata": {},
   "outputs": [
    {
     "data": {
      "text/plain": [
       "'Upper code will give the value of the least number'"
      ]
     },
     "execution_count": 58,
     "metadata": {},
     "output_type": "execute_result"
    }
   ],
   "source": [
    "# short_values -> inplace\n",
    "# data.sort_values(ascending = False).head(1).values[0]\n",
    "'''Upper code will give the value of the least number'''"
   ]
  },
  {
   "cell_type": "code",
   "execution_count": null,
   "id": "0e60624a",
   "metadata": {},
   "outputs": [],
   "source": []
  }
 ],
 "metadata": {
  "kernelspec": {
   "display_name": "Python 3 (ipykernel)",
   "language": "python",
   "name": "python3"
  },
  "language_info": {
   "codemirror_mode": {
    "name": "ipython",
    "version": 3
   },
   "file_extension": ".py",
   "mimetype": "text/x-python",
   "name": "python",
   "nbconvert_exporter": "python",
   "pygments_lexer": "ipython3",
   "version": "3.11.3"
  }
 },
 "nbformat": 4,
 "nbformat_minor": 5
}
