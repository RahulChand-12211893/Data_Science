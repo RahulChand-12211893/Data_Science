{
 "cells": [
  {
   "cell_type": "markdown",
   "id": "4e8d082e",
   "metadata": {},
   "source": [
    "### What is Pandas?\n",
    "- Pandas is a fast, powerful, flexible and easy to use open source data analysis and manipulation tool, build on top of the Python programming language.\n"
   ]
  },
  {
   "cell_type": "markdown",
   "id": "fe30fbd4",
   "metadata": {},
   "source": [
    "\n",
    "### Pandas Series\n",
    "- A pandas Series is like a column in a table. It is a 1-D array holding data of any type."
   ]
  },
  {
   "cell_type": "code",
   "execution_count": 1,
   "id": "5110e77d",
   "metadata": {},
   "outputs": [],
   "source": [
    "import numpy as np\n",
    "import pandas as pd"
   ]
  },
  {
   "cell_type": "markdown",
   "id": "6afecb63",
   "metadata": {},
   "source": [
    "### Series from List"
   ]
  },
  {
   "cell_type": "code",
   "execution_count": 2,
   "id": "e605999d",
   "metadata": {},
   "outputs": [
    {
     "data": {
      "text/plain": [
       "0        India\n",
       "1     Pakistan\n",
       "2          USA\n",
       "3        Neapl\n",
       "4    Sri lanka\n",
       "dtype: object"
      ]
     },
     "execution_count": 2,
     "metadata": {},
     "output_type": "execute_result"
    }
   ],
   "source": [
    "#String\n",
    "''' Values are manually provided, but index are given automatically'''\n",
    "country = ['India', 'Pakistan', 'USA', 'Neapl', 'Sri lanka']\n",
    "pd.Series(country)\n",
    "# It gives info about the index and values\n"
   ]
  },
  {
   "cell_type": "code",
   "execution_count": 3,
   "id": "5f735c98",
   "metadata": {},
   "outputs": [
    {
     "data": {
      "text/plain": [
       "0    13\n",
       "1    24\n",
       "2    69\n",
       "3    45\n",
       "4    71\n",
       "dtype: int64"
      ]
     },
     "execution_count": 3,
     "metadata": {},
     "output_type": "execute_result"
    }
   ],
   "source": [
    "#integers\n",
    "runs = [13,24,69,45,71]\n",
    "pd.Series(runs)"
   ]
  },
  {
   "cell_type": "code",
   "execution_count": 4,
   "id": "eb78ea41",
   "metadata": {},
   "outputs": [
    {
     "data": {
      "text/plain": [
       "maths       67\n",
       "english     57\n",
       "science     89\n",
       "hindi      100\n",
       "dtype: int64"
      ]
     },
     "execution_count": 4,
     "metadata": {},
     "output_type": "execute_result"
    }
   ],
   "source": [
    "#custom index\n",
    "marks = [67,57,89,100]\n",
    "subject = ['maths', 'english', 'science', 'hindi']\n",
    "pd.Series(marks, index = subject)"
   ]
  },
  {
   "cell_type": "code",
   "execution_count": 5,
   "id": "ec040513",
   "metadata": {},
   "outputs": [
    {
     "data": {
      "text/plain": [
       "maths       67\n",
       "english     57\n",
       "science     89\n",
       "hindi      100\n",
       "Name: Rahul ki file, dtype: int64"
      ]
     },
     "execution_count": 5,
     "metadata": {},
     "output_type": "execute_result"
    }
   ],
   "source": [
    "#Setting a name\n",
    "marks1 = pd.Series(marks, index = subject, name = \"Rahul ki file\")\n",
    "marks1"
   ]
  },
  {
   "cell_type": "markdown",
   "id": "6b4b7df8",
   "metadata": {},
   "source": [
    "### Series from dictionary"
   ]
  },
  {
   "cell_type": "code",
   "execution_count": 6,
   "id": "3fb8c9c4",
   "metadata": {},
   "outputs": [
    {
     "data": {
      "text/plain": [
       "maths       67\n",
       "english     57\n",
       "science     89\n",
       "hindi      100\n",
       "Name: Rahul ke marks, dtype: int64"
      ]
     },
     "execution_count": 6,
     "metadata": {},
     "output_type": "execute_result"
    }
   ],
   "source": [
    "marks = {'maths': 67, \n",
    "        'english':57,\n",
    "        'science':89,\n",
    "        'hindi':100}\n",
    "marks_series = pd.Series(marks, name = 'Rahul ke marks')\n",
    "marks_series\n",
    "#HHere name is the attribute of the marks"
   ]
  },
  {
   "cell_type": "markdown",
   "id": "ee5b070f",
   "metadata": {},
   "source": [
    "## Series attribute"
   ]
  },
  {
   "cell_type": "code",
   "execution_count": 7,
   "id": "f7e58b88",
   "metadata": {},
   "outputs": [
    {
     "data": {
      "text/plain": [
       "4"
      ]
     },
     "execution_count": 7,
     "metadata": {},
     "output_type": "execute_result"
    }
   ],
   "source": [
    "# Size\n",
    "marks_series.size"
   ]
  },
  {
   "cell_type": "code",
   "execution_count": 8,
   "id": "6be9353b",
   "metadata": {},
   "outputs": [
    {
     "data": {
      "text/plain": [
       "dtype('int64')"
      ]
     },
     "execution_count": 8,
     "metadata": {},
     "output_type": "execute_result"
    }
   ],
   "source": [
    "#dtype\n",
    "marks_series.dtype"
   ]
  },
  {
   "cell_type": "code",
   "execution_count": 9,
   "id": "a5028878",
   "metadata": {},
   "outputs": [
    {
     "data": {
      "text/plain": [
       "'Rahul ke marks'"
      ]
     },
     "execution_count": 9,
     "metadata": {},
     "output_type": "execute_result"
    }
   ],
   "source": [
    "#name\n",
    "marks_series.name"
   ]
  },
  {
   "cell_type": "code",
   "execution_count": 10,
   "id": "6c2077ed",
   "metadata": {},
   "outputs": [
    {
     "data": {
      "text/plain": [
       "False"
      ]
     },
     "execution_count": 10,
     "metadata": {},
     "output_type": "execute_result"
    }
   ],
   "source": [
    "#is unique \n",
    "marks_series.is_unique\n",
    "pd.Series([1,1,2,3,4,5]).is_unique\n",
    "#return false, beacuse 1 is repeating twice"
   ]
  },
  {
   "cell_type": "code",
   "execution_count": 11,
   "id": "279f6c82",
   "metadata": {},
   "outputs": [
    {
     "data": {
      "text/plain": [
       "Index(['maths', 'english', 'science', 'hindi'], dtype='object')"
      ]
     },
     "execution_count": 11,
     "metadata": {},
     "output_type": "execute_result"
    }
   ],
   "source": [
    "#index\n",
    "marks_series.index"
   ]
  },
  {
   "cell_type": "code",
   "execution_count": 12,
   "id": "186d80e4",
   "metadata": {},
   "outputs": [
    {
     "data": {
      "text/plain": [
       "array([ 67,  57,  89, 100], dtype=int64)"
      ]
     },
     "execution_count": 12,
     "metadata": {},
     "output_type": "execute_result"
    }
   ],
   "source": [
    "#values\n",
    "marks_series.values"
   ]
  },
  {
   "cell_type": "markdown",
   "id": "7008eefe",
   "metadata": {},
   "source": [
    "### Series using read_csv"
   ]
  },
  {
   "cell_type": "code",
   "execution_count": 13,
   "id": "b6ba27ef",
   "metadata": {},
   "outputs": [
    {
     "data": {
      "text/plain": [
       "pandas.core.frame.DataFrame"
      ]
     },
     "execution_count": 13,
     "metadata": {},
     "output_type": "execute_result"
    }
   ],
   "source": [
    "#with one column\n",
    "type(pd.read_csv('BollywoodActorRanking.csv'))"
   ]
  },
  {
   "cell_type": "code",
   "execution_count": 14,
   "id": "bddd3dd3",
   "metadata": {},
   "outputs": [
    {
     "name": "stderr",
     "output_type": "stream",
     "text": [
      "C:\\Users\\rahul\\AppData\\Local\\Temp\\ipykernel_1604\\3008530259.py:1: FutureWarning: The squeeze argument has been deprecated and will be removed in a future version. Append .squeeze(\"columns\") to the call to squeeze.\n",
      "\n",
      "\n",
      "  data = pd.read_csv('BollywoodActorRanking.csv', squeeze=True)\n"
     ]
    },
    {
     "data": {
      "text/html": [
       "<div>\n",
       "<style scoped>\n",
       "    .dataframe tbody tr th:only-of-type {\n",
       "        vertical-align: middle;\n",
       "    }\n",
       "\n",
       "    .dataframe tbody tr th {\n",
       "        vertical-align: top;\n",
       "    }\n",
       "\n",
       "    .dataframe thead th {\n",
       "        text-align: right;\n",
       "    }\n",
       "</style>\n",
       "<table border=\"1\" class=\"dataframe\">\n",
       "  <thead>\n",
       "    <tr style=\"text-align: right;\">\n",
       "      <th></th>\n",
       "      <th>actorId</th>\n",
       "      <th>actorName</th>\n",
       "      <th>movieCount</th>\n",
       "      <th>ratingSum</th>\n",
       "      <th>normalizedMovieRank</th>\n",
       "      <th>googleHits</th>\n",
       "      <th>normalizedGoogleRank</th>\n",
       "      <th>normalizedRating</th>\n",
       "    </tr>\n",
       "  </thead>\n",
       "  <tbody>\n",
       "    <tr>\n",
       "      <th>0</th>\n",
       "      <td>373</td>\n",
       "      <td>Aamir Khan</td>\n",
       "      <td>11</td>\n",
       "      <td>1170</td>\n",
       "      <td>9.44862</td>\n",
       "      <td>2460000</td>\n",
       "      <td>7.34283</td>\n",
       "      <td>10.00000</td>\n",
       "    </tr>\n",
       "    <tr>\n",
       "      <th>1</th>\n",
       "      <td>374</td>\n",
       "      <td>Shah Rukh Khan</td>\n",
       "      <td>23</td>\n",
       "      <td>2000</td>\n",
       "      <td>7.55009</td>\n",
       "      <td>2670000</td>\n",
       "      <td>7.88458</td>\n",
       "      <td>9.22674</td>\n",
       "    </tr>\n",
       "    <tr>\n",
       "      <th>2</th>\n",
       "      <td>375</td>\n",
       "      <td>Salman Khan</td>\n",
       "      <td>36</td>\n",
       "      <td>2340</td>\n",
       "      <td>5.40217</td>\n",
       "      <td>3490000</td>\n",
       "      <td>10.00000</td>\n",
       "      <td>9.20821</td>\n",
       "    </tr>\n",
       "    <tr>\n",
       "      <th>3</th>\n",
       "      <td>376</td>\n",
       "      <td>Katrina Kaif</td>\n",
       "      <td>17</td>\n",
       "      <td>1640</td>\n",
       "      <td>8.48082</td>\n",
       "      <td>2120000</td>\n",
       "      <td>6.46570</td>\n",
       "      <td>8.94852</td>\n",
       "    </tr>\n",
       "    <tr>\n",
       "      <th>4</th>\n",
       "      <td>377</td>\n",
       "      <td>Deepika Padukone</td>\n",
       "      <td>16</td>\n",
       "      <td>1080</td>\n",
       "      <td>5.64674</td>\n",
       "      <td>3000000</td>\n",
       "      <td>8.73591</td>\n",
       "      <td>8.62716</td>\n",
       "    </tr>\n",
       "    <tr>\n",
       "      <th>...</th>\n",
       "      <td>...</td>\n",
       "      <td>...</td>\n",
       "      <td>...</td>\n",
       "      <td>...</td>\n",
       "      <td>...</td>\n",
       "      <td>...</td>\n",
       "      <td>...</td>\n",
       "      <td>...</td>\n",
       "    </tr>\n",
       "    <tr>\n",
       "      <th>296</th>\n",
       "      <td>669</td>\n",
       "      <td>Achint Kaur</td>\n",
       "      <td>4</td>\n",
       "      <td>80</td>\n",
       "      <td>1.00000</td>\n",
       "      <td>0</td>\n",
       "      <td>NaN</td>\n",
       "      <td>1.00000</td>\n",
       "    </tr>\n",
       "    <tr>\n",
       "      <th>297</th>\n",
       "      <td>670</td>\n",
       "      <td>Yuvika Chaudhry</td>\n",
       "      <td>5</td>\n",
       "      <td>100</td>\n",
       "      <td>1.00000</td>\n",
       "      <td>0</td>\n",
       "      <td>NaN</td>\n",
       "      <td>1.00000</td>\n",
       "    </tr>\n",
       "    <tr>\n",
       "      <th>298</th>\n",
       "      <td>671</td>\n",
       "      <td>Pankaj Berry</td>\n",
       "      <td>5</td>\n",
       "      <td>100</td>\n",
       "      <td>1.00000</td>\n",
       "      <td>0</td>\n",
       "      <td>NaN</td>\n",
       "      <td>1.00000</td>\n",
       "    </tr>\n",
       "    <tr>\n",
       "      <th>299</th>\n",
       "      <td>672</td>\n",
       "      <td>Varun Dhawan</td>\n",
       "      <td>0</td>\n",
       "      <td>0</td>\n",
       "      <td>NaN</td>\n",
       "      <td>0</td>\n",
       "      <td>NaN</td>\n",
       "      <td>4.74000</td>\n",
       "    </tr>\n",
       "    <tr>\n",
       "      <th>300</th>\n",
       "      <td>673</td>\n",
       "      <td>Nargis Fakhri</td>\n",
       "      <td>0</td>\n",
       "      <td>0</td>\n",
       "      <td>NaN</td>\n",
       "      <td>0</td>\n",
       "      <td>NaN</td>\n",
       "      <td>4.80000</td>\n",
       "    </tr>\n",
       "  </tbody>\n",
       "</table>\n",
       "<p>301 rows × 8 columns</p>\n",
       "</div>"
      ],
      "text/plain": [
       "     actorId         actorName  movieCount  ratingSum  normalizedMovieRank  \\\n",
       "0        373        Aamir Khan          11       1170              9.44862   \n",
       "1        374    Shah Rukh Khan          23       2000              7.55009   \n",
       "2        375       Salman Khan          36       2340              5.40217   \n",
       "3        376      Katrina Kaif          17       1640              8.48082   \n",
       "4        377  Deepika Padukone          16       1080              5.64674   \n",
       "..       ...               ...         ...        ...                  ...   \n",
       "296      669       Achint Kaur           4         80              1.00000   \n",
       "297      670   Yuvika Chaudhry           5        100              1.00000   \n",
       "298      671      Pankaj Berry           5        100              1.00000   \n",
       "299      672      Varun Dhawan           0          0                  NaN   \n",
       "300      673     Nargis Fakhri           0          0                  NaN   \n",
       "\n",
       "     googleHits  normalizedGoogleRank  normalizedRating  \n",
       "0       2460000               7.34283          10.00000  \n",
       "1       2670000               7.88458           9.22674  \n",
       "2       3490000              10.00000           9.20821  \n",
       "3       2120000               6.46570           8.94852  \n",
       "4       3000000               8.73591           8.62716  \n",
       "..          ...                   ...               ...  \n",
       "296           0                   NaN           1.00000  \n",
       "297           0                   NaN           1.00000  \n",
       "298           0                   NaN           1.00000  \n",
       "299           0                   NaN           4.74000  \n",
       "300           0                   NaN           4.80000  \n",
       "\n",
       "[301 rows x 8 columns]"
      ]
     },
     "execution_count": 14,
     "metadata": {},
     "output_type": "execute_result"
    }
   ],
   "source": [
    "data = pd.read_csv('BollywoodActorRanking.csv', squeeze=True)\n",
    "data"
   ]
  },
  {
   "cell_type": "code",
   "execution_count": 15,
   "id": "f0c62d94",
   "metadata": {},
   "outputs": [
    {
     "ename": "NameError",
     "evalue": "name 'subs' is not defined",
     "output_type": "error",
     "traceback": [
      "\u001b[1;31m---------------------------------------------------------------------------\u001b[0m",
      "\u001b[1;31mNameError\u001b[0m                                 Traceback (most recent call last)",
      "Cell \u001b[1;32mIn[15], line 1\u001b[0m\n\u001b[1;32m----> 1\u001b[0m \u001b[38;5;28mtype\u001b[39m(subs)\n",
      "\u001b[1;31mNameError\u001b[0m: name 'subs' is not defined"
     ]
    }
   ],
   "source": [
    "type(subs)\n",
    "#here my dtpe is still dataframe, because i have multiple columns here"
   ]
  },
  {
   "cell_type": "code",
   "execution_count": 16,
   "id": "f6716fff",
   "metadata": {},
   "outputs": [
    {
     "data": {
      "text/plain": [
       "' with 2 columns'"
      ]
     },
     "execution_count": 16,
     "metadata": {},
     "output_type": "execute_result"
    }
   ],
   "source": [
    "''' with 2 columns'''\n",
    "#subs1 = pd.read_csv('BollywoodActorRanking.csv',index_col = 'column name' squeeze=True)\n"
   ]
  },
  {
   "cell_type": "code",
   "execution_count": 17,
   "id": "056710d1",
   "metadata": {},
   "outputs": [
    {
     "data": {
      "text/html": [
       "<div>\n",
       "<style scoped>\n",
       "    .dataframe tbody tr th:only-of-type {\n",
       "        vertical-align: middle;\n",
       "    }\n",
       "\n",
       "    .dataframe tbody tr th {\n",
       "        vertical-align: top;\n",
       "    }\n",
       "\n",
       "    .dataframe thead th {\n",
       "        text-align: right;\n",
       "    }\n",
       "</style>\n",
       "<table border=\"1\" class=\"dataframe\">\n",
       "  <thead>\n",
       "    <tr style=\"text-align: right;\">\n",
       "      <th></th>\n",
       "      <th>actorId</th>\n",
       "      <th>actorName</th>\n",
       "      <th>movieCount</th>\n",
       "      <th>ratingSum</th>\n",
       "      <th>normalizedMovieRank</th>\n",
       "      <th>googleHits</th>\n",
       "      <th>normalizedGoogleRank</th>\n",
       "      <th>normalizedRating</th>\n",
       "    </tr>\n",
       "  </thead>\n",
       "  <tbody>\n",
       "    <tr>\n",
       "      <th>0</th>\n",
       "      <td>373</td>\n",
       "      <td>Aamir Khan</td>\n",
       "      <td>11</td>\n",
       "      <td>1170</td>\n",
       "      <td>9.44862</td>\n",
       "      <td>2460000</td>\n",
       "      <td>7.34283</td>\n",
       "      <td>10.00000</td>\n",
       "    </tr>\n",
       "    <tr>\n",
       "      <th>1</th>\n",
       "      <td>374</td>\n",
       "      <td>Shah Rukh Khan</td>\n",
       "      <td>23</td>\n",
       "      <td>2000</td>\n",
       "      <td>7.55009</td>\n",
       "      <td>2670000</td>\n",
       "      <td>7.88458</td>\n",
       "      <td>9.22674</td>\n",
       "    </tr>\n",
       "    <tr>\n",
       "      <th>2</th>\n",
       "      <td>375</td>\n",
       "      <td>Salman Khan</td>\n",
       "      <td>36</td>\n",
       "      <td>2340</td>\n",
       "      <td>5.40217</td>\n",
       "      <td>3490000</td>\n",
       "      <td>10.00000</td>\n",
       "      <td>9.20821</td>\n",
       "    </tr>\n",
       "    <tr>\n",
       "      <th>3</th>\n",
       "      <td>376</td>\n",
       "      <td>Katrina Kaif</td>\n",
       "      <td>17</td>\n",
       "      <td>1640</td>\n",
       "      <td>8.48082</td>\n",
       "      <td>2120000</td>\n",
       "      <td>6.46570</td>\n",
       "      <td>8.94852</td>\n",
       "    </tr>\n",
       "    <tr>\n",
       "      <th>4</th>\n",
       "      <td>377</td>\n",
       "      <td>Deepika Padukone</td>\n",
       "      <td>16</td>\n",
       "      <td>1080</td>\n",
       "      <td>5.64674</td>\n",
       "      <td>3000000</td>\n",
       "      <td>8.73591</td>\n",
       "      <td>8.62716</td>\n",
       "    </tr>\n",
       "  </tbody>\n",
       "</table>\n",
       "</div>"
      ],
      "text/plain": [
       "   actorId         actorName  movieCount  ratingSum  normalizedMovieRank  \\\n",
       "0      373        Aamir Khan          11       1170              9.44862   \n",
       "1      374    Shah Rukh Khan          23       2000              7.55009   \n",
       "2      375       Salman Khan          36       2340              5.40217   \n",
       "3      376      Katrina Kaif          17       1640              8.48082   \n",
       "4      377  Deepika Padukone          16       1080              5.64674   \n",
       "\n",
       "   googleHits  normalizedGoogleRank  normalizedRating  \n",
       "0     2460000               7.34283          10.00000  \n",
       "1     2670000               7.88458           9.22674  \n",
       "2     3490000              10.00000           9.20821  \n",
       "3     2120000               6.46570           8.94852  \n",
       "4     3000000               8.73591           8.62716  "
      ]
     },
     "execution_count": 17,
     "metadata": {},
     "output_type": "execute_result"
    }
   ],
   "source": [
    "# head \n",
    "data.head()\n",
    "#By default provide the top 5 values in your dataframe, but can be changed the value"
   ]
  },
  {
   "cell_type": "code",
   "execution_count": 18,
   "id": "84a2570c",
   "metadata": {},
   "outputs": [
    {
     "data": {
      "text/html": [
       "<div>\n",
       "<style scoped>\n",
       "    .dataframe tbody tr th:only-of-type {\n",
       "        vertical-align: middle;\n",
       "    }\n",
       "\n",
       "    .dataframe tbody tr th {\n",
       "        vertical-align: top;\n",
       "    }\n",
       "\n",
       "    .dataframe thead th {\n",
       "        text-align: right;\n",
       "    }\n",
       "</style>\n",
       "<table border=\"1\" class=\"dataframe\">\n",
       "  <thead>\n",
       "    <tr style=\"text-align: right;\">\n",
       "      <th></th>\n",
       "      <th>actorId</th>\n",
       "      <th>actorName</th>\n",
       "      <th>movieCount</th>\n",
       "      <th>ratingSum</th>\n",
       "      <th>normalizedMovieRank</th>\n",
       "      <th>googleHits</th>\n",
       "      <th>normalizedGoogleRank</th>\n",
       "      <th>normalizedRating</th>\n",
       "    </tr>\n",
       "  </thead>\n",
       "  <tbody>\n",
       "    <tr>\n",
       "      <th>206</th>\n",
       "      <td>579</td>\n",
       "      <td>Seema Biswas</td>\n",
       "      <td>11</td>\n",
       "      <td>280</td>\n",
       "      <td>1.5336</td>\n",
       "      <td>56100</td>\n",
       "      <td>1.14129</td>\n",
       "      <td>1.95457</td>\n",
       "    </tr>\n",
       "  </tbody>\n",
       "</table>\n",
       "</div>"
      ],
      "text/plain": [
       "     actorId     actorName  movieCount  ratingSum  normalizedMovieRank  \\\n",
       "206      579  Seema Biswas          11        280               1.5336   \n",
       "\n",
       "     googleHits  normalizedGoogleRank  normalizedRating  \n",
       "206       56100               1.14129           1.95457  "
      ]
     },
     "execution_count": 18,
     "metadata": {},
     "output_type": "execute_result"
    }
   ],
   "source": [
    "#sample\n",
    "# random selection\n",
    "data.sample()\n",
    "# data.sample(5)"
   ]
  },
  {
   "cell_type": "code",
   "execution_count": 19,
   "id": "57d24e8a",
   "metadata": {},
   "outputs": [
    {
     "data": {
      "text/html": [
       "<div>\n",
       "<style scoped>\n",
       "    .dataframe tbody tr th:only-of-type {\n",
       "        vertical-align: middle;\n",
       "    }\n",
       "\n",
       "    .dataframe tbody tr th {\n",
       "        vertical-align: top;\n",
       "    }\n",
       "\n",
       "    .dataframe thead th {\n",
       "        text-align: right;\n",
       "    }\n",
       "</style>\n",
       "<table border=\"1\" class=\"dataframe\">\n",
       "  <thead>\n",
       "    <tr style=\"text-align: right;\">\n",
       "      <th></th>\n",
       "      <th>actorId</th>\n",
       "      <th>actorName</th>\n",
       "      <th>movieCount</th>\n",
       "      <th>ratingSum</th>\n",
       "      <th>normalizedMovieRank</th>\n",
       "      <th>googleHits</th>\n",
       "      <th>normalizedGoogleRank</th>\n",
       "      <th>normalizedRating</th>\n",
       "    </tr>\n",
       "  </thead>\n",
       "  <tbody>\n",
       "    <tr>\n",
       "      <th>0</th>\n",
       "      <td>373</td>\n",
       "      <td>Aamir Khan</td>\n",
       "      <td>11</td>\n",
       "      <td>1170</td>\n",
       "      <td>9.44862</td>\n",
       "      <td>2460000</td>\n",
       "      <td>7.34283</td>\n",
       "      <td>10.00000</td>\n",
       "    </tr>\n",
       "    <tr>\n",
       "      <th>1</th>\n",
       "      <td>374</td>\n",
       "      <td>Shah Rukh Khan</td>\n",
       "      <td>23</td>\n",
       "      <td>2000</td>\n",
       "      <td>7.55009</td>\n",
       "      <td>2670000</td>\n",
       "      <td>7.88458</td>\n",
       "      <td>9.22674</td>\n",
       "    </tr>\n",
       "    <tr>\n",
       "      <th>2</th>\n",
       "      <td>375</td>\n",
       "      <td>Salman Khan</td>\n",
       "      <td>36</td>\n",
       "      <td>2340</td>\n",
       "      <td>5.40217</td>\n",
       "      <td>3490000</td>\n",
       "      <td>10.00000</td>\n",
       "      <td>9.20821</td>\n",
       "    </tr>\n",
       "    <tr>\n",
       "      <th>3</th>\n",
       "      <td>376</td>\n",
       "      <td>Katrina Kaif</td>\n",
       "      <td>17</td>\n",
       "      <td>1640</td>\n",
       "      <td>8.48082</td>\n",
       "      <td>2120000</td>\n",
       "      <td>6.46570</td>\n",
       "      <td>8.94852</td>\n",
       "    </tr>\n",
       "    <tr>\n",
       "      <th>4</th>\n",
       "      <td>377</td>\n",
       "      <td>Deepika Padukone</td>\n",
       "      <td>16</td>\n",
       "      <td>1080</td>\n",
       "      <td>5.64674</td>\n",
       "      <td>3000000</td>\n",
       "      <td>8.73591</td>\n",
       "      <td>8.62716</td>\n",
       "    </tr>\n",
       "    <tr>\n",
       "      <th>...</th>\n",
       "      <td>...</td>\n",
       "      <td>...</td>\n",
       "      <td>...</td>\n",
       "      <td>...</td>\n",
       "      <td>...</td>\n",
       "      <td>...</td>\n",
       "      <td>...</td>\n",
       "      <td>...</td>\n",
       "    </tr>\n",
       "    <tr>\n",
       "      <th>296</th>\n",
       "      <td>669</td>\n",
       "      <td>Achint Kaur</td>\n",
       "      <td>4</td>\n",
       "      <td>80</td>\n",
       "      <td>1.00000</td>\n",
       "      <td>0</td>\n",
       "      <td>NaN</td>\n",
       "      <td>1.00000</td>\n",
       "    </tr>\n",
       "    <tr>\n",
       "      <th>297</th>\n",
       "      <td>670</td>\n",
       "      <td>Yuvika Chaudhry</td>\n",
       "      <td>5</td>\n",
       "      <td>100</td>\n",
       "      <td>1.00000</td>\n",
       "      <td>0</td>\n",
       "      <td>NaN</td>\n",
       "      <td>1.00000</td>\n",
       "    </tr>\n",
       "    <tr>\n",
       "      <th>298</th>\n",
       "      <td>671</td>\n",
       "      <td>Pankaj Berry</td>\n",
       "      <td>5</td>\n",
       "      <td>100</td>\n",
       "      <td>1.00000</td>\n",
       "      <td>0</td>\n",
       "      <td>NaN</td>\n",
       "      <td>1.00000</td>\n",
       "    </tr>\n",
       "    <tr>\n",
       "      <th>299</th>\n",
       "      <td>672</td>\n",
       "      <td>Varun Dhawan</td>\n",
       "      <td>0</td>\n",
       "      <td>0</td>\n",
       "      <td>NaN</td>\n",
       "      <td>0</td>\n",
       "      <td>NaN</td>\n",
       "      <td>4.74000</td>\n",
       "    </tr>\n",
       "    <tr>\n",
       "      <th>300</th>\n",
       "      <td>673</td>\n",
       "      <td>Nargis Fakhri</td>\n",
       "      <td>0</td>\n",
       "      <td>0</td>\n",
       "      <td>NaN</td>\n",
       "      <td>0</td>\n",
       "      <td>NaN</td>\n",
       "      <td>4.80000</td>\n",
       "    </tr>\n",
       "  </tbody>\n",
       "</table>\n",
       "<p>301 rows × 8 columns</p>\n",
       "</div>"
      ],
      "text/plain": [
       "     actorId         actorName  movieCount  ratingSum  normalizedMovieRank  \\\n",
       "0        373        Aamir Khan          11       1170              9.44862   \n",
       "1        374    Shah Rukh Khan          23       2000              7.55009   \n",
       "2        375       Salman Khan          36       2340              5.40217   \n",
       "3        376      Katrina Kaif          17       1640              8.48082   \n",
       "4        377  Deepika Padukone          16       1080              5.64674   \n",
       "..       ...               ...         ...        ...                  ...   \n",
       "296      669       Achint Kaur           4         80              1.00000   \n",
       "297      670   Yuvika Chaudhry           5        100              1.00000   \n",
       "298      671      Pankaj Berry           5        100              1.00000   \n",
       "299      672      Varun Dhawan           0          0                  NaN   \n",
       "300      673     Nargis Fakhri           0          0                  NaN   \n",
       "\n",
       "     googleHits  normalizedGoogleRank  normalizedRating  \n",
       "0       2460000               7.34283          10.00000  \n",
       "1       2670000               7.88458           9.22674  \n",
       "2       3490000              10.00000           9.20821  \n",
       "3       2120000               6.46570           8.94852  \n",
       "4       3000000               8.73591           8.62716  \n",
       "..          ...                   ...               ...  \n",
       "296           0                   NaN           1.00000  \n",
       "297           0                   NaN           1.00000  \n",
       "298           0                   NaN           1.00000  \n",
       "299           0                   NaN           4.74000  \n",
       "300           0                   NaN           4.80000  \n",
       "\n",
       "[301 rows x 8 columns]"
      ]
     },
     "execution_count": 19,
     "metadata": {},
     "output_type": "execute_result"
    }
   ],
   "source": [
    "data"
   ]
  },
  {
   "cell_type": "code",
   "execution_count": 20,
   "id": "8b071165",
   "metadata": {},
   "outputs": [
    {
     "data": {
      "text/plain": [
       "actorId  actorName       movieCount  ratingSum  normalizedMovieRank  googleHits  normalizedGoogleRank  normalizedRating\n",
       "373      Aamir Khan      11          1170       9.44862              2460000     7.34283               10.00000            1\n",
       "525      Mahie Gill      7           230        2.25776              111000      1.28292               2.44801             1\n",
       "511      Vrajesh Hirjee  8           300        2.71196              12300       1.02830               2.56175             1\n",
       "514      Arbaaz Khan     17          530        2.09335              235000      1.60282               2.53662             1\n",
       "517      Udita Goswami   9           280        2.08696              229000      1.58734               2.52416             1\n",
       "                                                                                                                          ..\n",
       "443      Sharman Joshi   15          820        4.39130              129000      1.32936               3.69044             1\n",
       "444      Boman Irani     19          880        3.57437              416000      2.06976               3.64682             1\n",
       "445      Satish Shah     11          510        3.57905              385000      1.98978               3.60391             1\n",
       "446      Arshad Warsi    22          1100       3.93478              217000      1.55638               3.55964             1\n",
       "608      Snehal Dabi     7           140        1.00000              1330        1.00000               1.56993             1\n",
       "Length: 189, dtype: int64"
      ]
     },
     "execution_count": 20,
     "metadata": {},
     "output_type": "execute_result"
    }
   ],
   "source": [
    "# values_counts -> data\n",
    "data.value_counts()"
   ]
  },
  {
   "cell_type": "markdown",
   "id": "4e686acc",
   "metadata": {},
   "source": [
    "### short_values -> inplace\n",
    "### data.sort_values(ascending = False).head(1).values[0]\n",
    "'''Upper code will give the value of the least number'''"
   ]
  },
  {
   "cell_type": "code",
   "execution_count": 21,
   "id": "37869bd6",
   "metadata": {},
   "outputs": [],
   "source": [
    "#sort_index\n",
    "data.sort_index(inplace = True)"
   ]
  },
  {
   "cell_type": "code",
   "execution_count": 22,
   "id": "c5790385",
   "metadata": {},
   "outputs": [
    {
     "data": {
      "text/html": [
       "<div>\n",
       "<style scoped>\n",
       "    .dataframe tbody tr th:only-of-type {\n",
       "        vertical-align: middle;\n",
       "    }\n",
       "\n",
       "    .dataframe tbody tr th {\n",
       "        vertical-align: top;\n",
       "    }\n",
       "\n",
       "    .dataframe thead th {\n",
       "        text-align: right;\n",
       "    }\n",
       "</style>\n",
       "<table border=\"1\" class=\"dataframe\">\n",
       "  <thead>\n",
       "    <tr style=\"text-align: right;\">\n",
       "      <th></th>\n",
       "      <th>actorId</th>\n",
       "      <th>actorName</th>\n",
       "      <th>movieCount</th>\n",
       "      <th>ratingSum</th>\n",
       "      <th>normalizedMovieRank</th>\n",
       "      <th>googleHits</th>\n",
       "      <th>normalizedGoogleRank</th>\n",
       "      <th>normalizedRating</th>\n",
       "    </tr>\n",
       "  </thead>\n",
       "  <tbody>\n",
       "    <tr>\n",
       "      <th>0</th>\n",
       "      <td>373</td>\n",
       "      <td>Aamir Khan</td>\n",
       "      <td>11</td>\n",
       "      <td>1170</td>\n",
       "      <td>9.44862</td>\n",
       "      <td>2460000</td>\n",
       "      <td>7.34283</td>\n",
       "      <td>10.00000</td>\n",
       "    </tr>\n",
       "    <tr>\n",
       "      <th>1</th>\n",
       "      <td>374</td>\n",
       "      <td>Shah Rukh Khan</td>\n",
       "      <td>23</td>\n",
       "      <td>2000</td>\n",
       "      <td>7.55009</td>\n",
       "      <td>2670000</td>\n",
       "      <td>7.88458</td>\n",
       "      <td>9.22674</td>\n",
       "    </tr>\n",
       "    <tr>\n",
       "      <th>2</th>\n",
       "      <td>375</td>\n",
       "      <td>Salman Khan</td>\n",
       "      <td>36</td>\n",
       "      <td>2340</td>\n",
       "      <td>5.40217</td>\n",
       "      <td>3490000</td>\n",
       "      <td>10.00000</td>\n",
       "      <td>9.20821</td>\n",
       "    </tr>\n",
       "    <tr>\n",
       "      <th>3</th>\n",
       "      <td>376</td>\n",
       "      <td>Katrina Kaif</td>\n",
       "      <td>17</td>\n",
       "      <td>1640</td>\n",
       "      <td>8.48082</td>\n",
       "      <td>2120000</td>\n",
       "      <td>6.46570</td>\n",
       "      <td>8.94852</td>\n",
       "    </tr>\n",
       "    <tr>\n",
       "      <th>4</th>\n",
       "      <td>377</td>\n",
       "      <td>Deepika Padukone</td>\n",
       "      <td>16</td>\n",
       "      <td>1080</td>\n",
       "      <td>5.64674</td>\n",
       "      <td>3000000</td>\n",
       "      <td>8.73591</td>\n",
       "      <td>8.62716</td>\n",
       "    </tr>\n",
       "    <tr>\n",
       "      <th>...</th>\n",
       "      <td>...</td>\n",
       "      <td>...</td>\n",
       "      <td>...</td>\n",
       "      <td>...</td>\n",
       "      <td>...</td>\n",
       "      <td>...</td>\n",
       "      <td>...</td>\n",
       "      <td>...</td>\n",
       "    </tr>\n",
       "    <tr>\n",
       "      <th>296</th>\n",
       "      <td>669</td>\n",
       "      <td>Achint Kaur</td>\n",
       "      <td>4</td>\n",
       "      <td>80</td>\n",
       "      <td>1.00000</td>\n",
       "      <td>0</td>\n",
       "      <td>NaN</td>\n",
       "      <td>1.00000</td>\n",
       "    </tr>\n",
       "    <tr>\n",
       "      <th>297</th>\n",
       "      <td>670</td>\n",
       "      <td>Yuvika Chaudhry</td>\n",
       "      <td>5</td>\n",
       "      <td>100</td>\n",
       "      <td>1.00000</td>\n",
       "      <td>0</td>\n",
       "      <td>NaN</td>\n",
       "      <td>1.00000</td>\n",
       "    </tr>\n",
       "    <tr>\n",
       "      <th>298</th>\n",
       "      <td>671</td>\n",
       "      <td>Pankaj Berry</td>\n",
       "      <td>5</td>\n",
       "      <td>100</td>\n",
       "      <td>1.00000</td>\n",
       "      <td>0</td>\n",
       "      <td>NaN</td>\n",
       "      <td>1.00000</td>\n",
       "    </tr>\n",
       "    <tr>\n",
       "      <th>299</th>\n",
       "      <td>672</td>\n",
       "      <td>Varun Dhawan</td>\n",
       "      <td>0</td>\n",
       "      <td>0</td>\n",
       "      <td>NaN</td>\n",
       "      <td>0</td>\n",
       "      <td>NaN</td>\n",
       "      <td>4.74000</td>\n",
       "    </tr>\n",
       "    <tr>\n",
       "      <th>300</th>\n",
       "      <td>673</td>\n",
       "      <td>Nargis Fakhri</td>\n",
       "      <td>0</td>\n",
       "      <td>0</td>\n",
       "      <td>NaN</td>\n",
       "      <td>0</td>\n",
       "      <td>NaN</td>\n",
       "      <td>4.80000</td>\n",
       "    </tr>\n",
       "  </tbody>\n",
       "</table>\n",
       "<p>301 rows × 8 columns</p>\n",
       "</div>"
      ],
      "text/plain": [
       "     actorId         actorName  movieCount  ratingSum  normalizedMovieRank  \\\n",
       "0        373        Aamir Khan          11       1170              9.44862   \n",
       "1        374    Shah Rukh Khan          23       2000              7.55009   \n",
       "2        375       Salman Khan          36       2340              5.40217   \n",
       "3        376      Katrina Kaif          17       1640              8.48082   \n",
       "4        377  Deepika Padukone          16       1080              5.64674   \n",
       "..       ...               ...         ...        ...                  ...   \n",
       "296      669       Achint Kaur           4         80              1.00000   \n",
       "297      670   Yuvika Chaudhry           5        100              1.00000   \n",
       "298      671      Pankaj Berry           5        100              1.00000   \n",
       "299      672      Varun Dhawan           0          0                  NaN   \n",
       "300      673     Nargis Fakhri           0          0                  NaN   \n",
       "\n",
       "     googleHits  normalizedGoogleRank  normalizedRating  \n",
       "0       2460000               7.34283          10.00000  \n",
       "1       2670000               7.88458           9.22674  \n",
       "2       3490000              10.00000           9.20821  \n",
       "3       2120000               6.46570           8.94852  \n",
       "4       3000000               8.73591           8.62716  \n",
       "..          ...                   ...               ...  \n",
       "296           0                   NaN           1.00000  \n",
       "297           0                   NaN           1.00000  \n",
       "298           0                   NaN           1.00000  \n",
       "299           0                   NaN           4.74000  \n",
       "300           0                   NaN           4.80000  \n",
       "\n",
       "[301 rows x 8 columns]"
      ]
     },
     "execution_count": 22,
     "metadata": {},
     "output_type": "execute_result"
    }
   ],
   "source": [
    "data"
   ]
  },
  {
   "cell_type": "markdown",
   "id": "d35c2559",
   "metadata": {},
   "source": [
    "## Series Maths Methods"
   ]
  },
  {
   "cell_type": "code",
   "execution_count": 23,
   "id": "d5c2bd91",
   "metadata": {},
   "outputs": [
    {
     "data": {
      "text/plain": [
       "301"
      ]
     },
     "execution_count": 23,
     "metadata": {},
     "output_type": "execute_result"
    }
   ],
   "source": [
    "#count\n",
    "data['actorId'].count()"
   ]
  },
  {
   "cell_type": "code",
   "execution_count": 24,
   "id": "d62a1fd3",
   "metadata": {},
   "outputs": [
    {
     "data": {
      "text/plain": [
       "419.13621262458474"
      ]
     },
     "execution_count": 24,
     "metadata": {},
     "output_type": "execute_result"
    }
   ],
   "source": [
    "data['ratingSum'].mean()"
   ]
  },
  {
   "cell_type": "code",
   "execution_count": 25,
   "id": "dcfba624",
   "metadata": {},
   "outputs": [
    {
     "data": {
      "text/plain": [
       "260.0"
      ]
     },
     "execution_count": 25,
     "metadata": {},
     "output_type": "execute_result"
    }
   ],
   "source": [
    "data['ratingSum'].median()"
   ]
  },
  {
   "cell_type": "code",
   "execution_count": 26,
   "id": "40551069",
   "metadata": {},
   "outputs": [
    {
     "name": "stdout",
     "output_type": "stream",
     "text": [
      "0             Aamir Khan\n",
      "1         Aarti Chhabria\n",
      "2      Aashish Chaudhary\n",
      "3          Abhay Bhargav\n",
      "4             Abhay Deol\n",
      "             ...        \n",
      "296            Yash Tonk\n",
      "297       Yashpal Sharma\n",
      "298      Yuvika Chaudhry\n",
      "299        Zakir Hussain\n",
      "300           Zayed Khan\n",
      "Name: actorName, Length: 301, dtype: object\n"
     ]
    }
   ],
   "source": [
    "print(data['actorName'].mode())\n",
    "#.var()\n",
    "#.std()"
   ]
  },
  {
   "cell_type": "code",
   "execution_count": 27,
   "id": "a4af66ff",
   "metadata": {},
   "outputs": [
    {
     "data": {
      "text/html": [
       "<div>\n",
       "<style scoped>\n",
       "    .dataframe tbody tr th:only-of-type {\n",
       "        vertical-align: middle;\n",
       "    }\n",
       "\n",
       "    .dataframe tbody tr th {\n",
       "        vertical-align: top;\n",
       "    }\n",
       "\n",
       "    .dataframe thead th {\n",
       "        text-align: right;\n",
       "    }\n",
       "</style>\n",
       "<table border=\"1\" class=\"dataframe\">\n",
       "  <thead>\n",
       "    <tr style=\"text-align: right;\">\n",
       "      <th></th>\n",
       "      <th>actorId</th>\n",
       "      <th>movieCount</th>\n",
       "      <th>ratingSum</th>\n",
       "      <th>normalizedMovieRank</th>\n",
       "      <th>googleHits</th>\n",
       "      <th>normalizedGoogleRank</th>\n",
       "      <th>normalizedRating</th>\n",
       "    </tr>\n",
       "  </thead>\n",
       "  <tbody>\n",
       "    <tr>\n",
       "      <th>count</th>\n",
       "      <td>301.000000</td>\n",
       "      <td>301.000000</td>\n",
       "      <td>301.000000</td>\n",
       "      <td>299.000000</td>\n",
       "      <td>3.010000e+02</td>\n",
       "      <td>189.000000</td>\n",
       "      <td>301.000000</td>\n",
       "    </tr>\n",
       "    <tr>\n",
       "      <th>mean</th>\n",
       "      <td>523.000000</td>\n",
       "      <td>10.232558</td>\n",
       "      <td>419.136213</td>\n",
       "      <td>2.768970</td>\n",
       "      <td>3.741886e+05</td>\n",
       "      <td>2.533937</td>\n",
       "      <td>2.933339</td>\n",
       "    </tr>\n",
       "    <tr>\n",
       "      <th>std</th>\n",
       "      <td>87.035433</td>\n",
       "      <td>8.508764</td>\n",
       "      <td>446.972689</td>\n",
       "      <td>1.626970</td>\n",
       "      <td>6.647169e+05</td>\n",
       "      <td>1.951501</td>\n",
       "      <td>1.747883</td>\n",
       "    </tr>\n",
       "    <tr>\n",
       "      <th>min</th>\n",
       "      <td>373.000000</td>\n",
       "      <td>0.000000</td>\n",
       "      <td>0.000000</td>\n",
       "      <td>1.000000</td>\n",
       "      <td>0.000000e+00</td>\n",
       "      <td>1.000000</td>\n",
       "      <td>1.000000</td>\n",
       "    </tr>\n",
       "    <tr>\n",
       "      <th>25%</th>\n",
       "      <td>448.000000</td>\n",
       "      <td>5.000000</td>\n",
       "      <td>140.000000</td>\n",
       "      <td>1.489130</td>\n",
       "      <td>0.000000e+00</td>\n",
       "      <td>1.242680</td>\n",
       "      <td>1.709770</td>\n",
       "    </tr>\n",
       "    <tr>\n",
       "      <th>50%</th>\n",
       "      <td>523.000000</td>\n",
       "      <td>7.000000</td>\n",
       "      <td>260.000000</td>\n",
       "      <td>2.369570</td>\n",
       "      <td>7.640000e+04</td>\n",
       "      <td>1.638930</td>\n",
       "      <td>2.493970</td>\n",
       "    </tr>\n",
       "    <tr>\n",
       "      <th>75%</th>\n",
       "      <td>598.000000</td>\n",
       "      <td>12.000000</td>\n",
       "      <td>500.000000</td>\n",
       "      <td>3.621045</td>\n",
       "      <td>3.850000e+05</td>\n",
       "      <td>2.967520</td>\n",
       "      <td>3.559640</td>\n",
       "    </tr>\n",
       "    <tr>\n",
       "      <th>max</th>\n",
       "      <td>673.000000</td>\n",
       "      <td>54.000000</td>\n",
       "      <td>2950.000000</td>\n",
       "      <td>10.000000</td>\n",
       "      <td>3.490000e+06</td>\n",
       "      <td>10.000000</td>\n",
       "      <td>10.000000</td>\n",
       "    </tr>\n",
       "  </tbody>\n",
       "</table>\n",
       "</div>"
      ],
      "text/plain": [
       "          actorId  movieCount    ratingSum  normalizedMovieRank    googleHits  \\\n",
       "count  301.000000  301.000000   301.000000           299.000000  3.010000e+02   \n",
       "mean   523.000000   10.232558   419.136213             2.768970  3.741886e+05   \n",
       "std     87.035433    8.508764   446.972689             1.626970  6.647169e+05   \n",
       "min    373.000000    0.000000     0.000000             1.000000  0.000000e+00   \n",
       "25%    448.000000    5.000000   140.000000             1.489130  0.000000e+00   \n",
       "50%    523.000000    7.000000   260.000000             2.369570  7.640000e+04   \n",
       "75%    598.000000   12.000000   500.000000             3.621045  3.850000e+05   \n",
       "max    673.000000   54.000000  2950.000000            10.000000  3.490000e+06   \n",
       "\n",
       "       normalizedGoogleRank  normalizedRating  \n",
       "count            189.000000        301.000000  \n",
       "mean               2.533937          2.933339  \n",
       "std                1.951501          1.747883  \n",
       "min                1.000000          1.000000  \n",
       "25%                1.242680          1.709770  \n",
       "50%                1.638930          2.493970  \n",
       "75%                2.967520          3.559640  \n",
       "max               10.000000         10.000000  "
      ]
     },
     "execution_count": 27,
     "metadata": {},
     "output_type": "execute_result"
    }
   ],
   "source": [
    "data.describe()"
   ]
  },
  {
   "cell_type": "markdown",
   "id": "e9697bf3",
   "metadata": {},
   "source": [
    "### Series indexing"
   ]
  },
  {
   "cell_type": "code",
   "execution_count": 28,
   "id": "d19a8aa4",
   "metadata": {},
   "outputs": [
    {
     "data": {
      "text/plain": [
       "12"
      ]
     },
     "execution_count": 28,
     "metadata": {},
     "output_type": "execute_result"
    }
   ],
   "source": [
    "#integer indexing\n",
    "x = pd.Series([12,13,14,35,42,81,9,79])\n",
    "x[0]"
   ]
  },
  {
   "cell_type": "code",
   "execution_count": 29,
   "id": "4542a829",
   "metadata": {},
   "outputs": [
    {
     "ename": "KeyError",
     "evalue": "-1",
     "output_type": "error",
     "traceback": [
      "\u001b[1;31m---------------------------------------------------------------------------\u001b[0m",
      "\u001b[1;31mValueError\u001b[0m                                Traceback (most recent call last)",
      "File \u001b[1;32m~\\Python\\Lib\\site-packages\\pandas\\core\\indexes\\range.py:391\u001b[0m, in \u001b[0;36mRangeIndex.get_loc\u001b[1;34m(self, key, method, tolerance)\u001b[0m\n\u001b[0;32m    390\u001b[0m \u001b[38;5;28;01mtry\u001b[39;00m:\n\u001b[1;32m--> 391\u001b[0m     \u001b[38;5;28;01mreturn\u001b[39;00m \u001b[38;5;28mself\u001b[39m\u001b[38;5;241m.\u001b[39m_range\u001b[38;5;241m.\u001b[39mindex(new_key)\n\u001b[0;32m    392\u001b[0m \u001b[38;5;28;01mexcept\u001b[39;00m \u001b[38;5;167;01mValueError\u001b[39;00m \u001b[38;5;28;01mas\u001b[39;00m err:\n",
      "\u001b[1;31mValueError\u001b[0m: -1 is not in range",
      "\nThe above exception was the direct cause of the following exception:\n",
      "\u001b[1;31mKeyError\u001b[0m                                  Traceback (most recent call last)",
      "Cell \u001b[1;32mIn[29], line 2\u001b[0m\n\u001b[0;32m      1\u001b[0m \u001b[38;5;66;03m#negative indexing\u001b[39;00m\n\u001b[1;32m----> 2\u001b[0m x[\u001b[38;5;241m-\u001b[39m\u001b[38;5;241m1\u001b[39m]\n",
      "File \u001b[1;32m~\\Python\\Lib\\site-packages\\pandas\\core\\series.py:981\u001b[0m, in \u001b[0;36mSeries.__getitem__\u001b[1;34m(self, key)\u001b[0m\n\u001b[0;32m    978\u001b[0m     \u001b[38;5;28;01mreturn\u001b[39;00m \u001b[38;5;28mself\u001b[39m\u001b[38;5;241m.\u001b[39m_values[key]\n\u001b[0;32m    980\u001b[0m \u001b[38;5;28;01melif\u001b[39;00m key_is_scalar:\n\u001b[1;32m--> 981\u001b[0m     \u001b[38;5;28;01mreturn\u001b[39;00m \u001b[38;5;28mself\u001b[39m\u001b[38;5;241m.\u001b[39m_get_value(key)\n\u001b[0;32m    983\u001b[0m \u001b[38;5;28;01mif\u001b[39;00m is_hashable(key):\n\u001b[0;32m    984\u001b[0m     \u001b[38;5;66;03m# Otherwise index.get_value will raise InvalidIndexError\u001b[39;00m\n\u001b[0;32m    985\u001b[0m     \u001b[38;5;28;01mtry\u001b[39;00m:\n\u001b[0;32m    986\u001b[0m         \u001b[38;5;66;03m# For labels that don't resolve as scalars like tuples and frozensets\u001b[39;00m\n",
      "File \u001b[1;32m~\\Python\\Lib\\site-packages\\pandas\\core\\series.py:1089\u001b[0m, in \u001b[0;36mSeries._get_value\u001b[1;34m(self, label, takeable)\u001b[0m\n\u001b[0;32m   1086\u001b[0m     \u001b[38;5;28;01mreturn\u001b[39;00m \u001b[38;5;28mself\u001b[39m\u001b[38;5;241m.\u001b[39m_values[label]\n\u001b[0;32m   1088\u001b[0m \u001b[38;5;66;03m# Similar to Index.get_value, but we do not fall back to positional\u001b[39;00m\n\u001b[1;32m-> 1089\u001b[0m loc \u001b[38;5;241m=\u001b[39m \u001b[38;5;28mself\u001b[39m\u001b[38;5;241m.\u001b[39mindex\u001b[38;5;241m.\u001b[39mget_loc(label)\n\u001b[0;32m   1090\u001b[0m \u001b[38;5;28;01mreturn\u001b[39;00m \u001b[38;5;28mself\u001b[39m\u001b[38;5;241m.\u001b[39mindex\u001b[38;5;241m.\u001b[39m_get_values_for_loc(\u001b[38;5;28mself\u001b[39m, loc, label)\n",
      "File \u001b[1;32m~\\Python\\Lib\\site-packages\\pandas\\core\\indexes\\range.py:393\u001b[0m, in \u001b[0;36mRangeIndex.get_loc\u001b[1;34m(self, key, method, tolerance)\u001b[0m\n\u001b[0;32m    391\u001b[0m         \u001b[38;5;28;01mreturn\u001b[39;00m \u001b[38;5;28mself\u001b[39m\u001b[38;5;241m.\u001b[39m_range\u001b[38;5;241m.\u001b[39mindex(new_key)\n\u001b[0;32m    392\u001b[0m     \u001b[38;5;28;01mexcept\u001b[39;00m \u001b[38;5;167;01mValueError\u001b[39;00m \u001b[38;5;28;01mas\u001b[39;00m err:\n\u001b[1;32m--> 393\u001b[0m         \u001b[38;5;28;01mraise\u001b[39;00m \u001b[38;5;167;01mKeyError\u001b[39;00m(key) \u001b[38;5;28;01mfrom\u001b[39;00m \u001b[38;5;21;01merr\u001b[39;00m\n\u001b[0;32m    394\u001b[0m \u001b[38;5;28mself\u001b[39m\u001b[38;5;241m.\u001b[39m_check_indexing_error(key)\n\u001b[0;32m    395\u001b[0m \u001b[38;5;28;01mraise\u001b[39;00m \u001b[38;5;167;01mKeyError\u001b[39;00m(key)\n",
      "\u001b[1;31mKeyError\u001b[0m: -1"
     ]
    }
   ],
   "source": [
    "#negative indexing\n",
    "x[-1]\n",
    "#Doesn't work in negative indexing"
   ]
  },
  {
   "cell_type": "code",
   "execution_count": 30,
   "id": "2e9781d1",
   "metadata": {},
   "outputs": [
    {
     "data": {
      "text/plain": [
       "maths      67\n",
       "english    57\n",
       "science    89\n",
       "Name: Rahul ke marks, dtype: int64"
      ]
     },
     "execution_count": 30,
     "metadata": {},
     "output_type": "execute_result"
    }
   ],
   "source": [
    "#Slicing\n",
    "marks_series[0:3]"
   ]
  },
  {
   "cell_type": "code",
   "execution_count": 31,
   "id": "e2a7ff33",
   "metadata": {},
   "outputs": [
    {
     "data": {
      "text/plain": [
       "maths      67\n",
       "science    89\n",
       "Name: Rahul ke marks, dtype: int64"
      ]
     },
     "execution_count": 31,
     "metadata": {},
     "output_type": "execute_result"
    }
   ],
   "source": [
    "#negative slicing\n",
    "marks_series[::2]"
   ]
  },
  {
   "cell_type": "markdown",
   "id": "f889b7cc",
   "metadata": {},
   "source": [
    "### Editing series"
   ]
  },
  {
   "cell_type": "code",
   "execution_count": 32,
   "id": "a8d1ab50",
   "metadata": {},
   "outputs": [
    {
     "data": {
      "text/plain": [
       "maths       67\n",
       "english     57\n",
       "science     89\n",
       "hindi      100\n",
       "Name: Rahul ke marks, dtype: int64"
      ]
     },
     "execution_count": 32,
     "metadata": {},
     "output_type": "execute_result"
    }
   ],
   "source": [
    "marks_series"
   ]
  },
  {
   "cell_type": "code",
   "execution_count": 33,
   "id": "9a5da3b0",
   "metadata": {},
   "outputs": [
    {
     "data": {
      "text/plain": [
       "maths       67\n",
       "english    100\n",
       "science     89\n",
       "hindi      100\n",
       "Name: Rahul ke marks, dtype: int64"
      ]
     },
     "execution_count": 33,
     "metadata": {},
     "output_type": "execute_result"
    }
   ],
   "source": [
    "#using indexing\n",
    "marks_series[1] = 100\n",
    "marks_series"
   ]
  },
  {
   "cell_type": "code",
   "execution_count": 34,
   "id": "b434b065",
   "metadata": {},
   "outputs": [],
   "source": [
    "#What if an index does not exist\n",
    "marks_series['sst'] = 90\n",
    "# it will not through error while wrting, and make a new element"
   ]
  },
  {
   "cell_type": "code",
   "execution_count": 35,
   "id": "83d02af8",
   "metadata": {},
   "outputs": [
    {
     "data": {
      "text/plain": [
       "maths       67\n",
       "english    100\n",
       "science     89\n",
       "hindi      100\n",
       "sst         90\n",
       "Name: Rahul ke marks, dtype: int64"
      ]
     },
     "execution_count": 35,
     "metadata": {},
     "output_type": "execute_result"
    }
   ],
   "source": [
    "marks_series"
   ]
  },
  {
   "cell_type": "code",
   "execution_count": 36,
   "id": "22d050aa",
   "metadata": {},
   "outputs": [
    {
     "ename": "NameError",
     "evalue": "name 'runs_ser' is not defined",
     "output_type": "error",
     "traceback": [
      "\u001b[1;31m---------------------------------------------------------------------------\u001b[0m",
      "\u001b[1;31mNameError\u001b[0m                                 Traceback (most recent call last)",
      "Cell \u001b[1;32mIn[36], line 2\u001b[0m\n\u001b[0;32m      1\u001b[0m \u001b[38;5;66;03m#slicing\u001b[39;00m\n\u001b[1;32m----> 2\u001b[0m runs_ser[\u001b[38;5;241m2\u001b[39m:\u001b[38;5;241m4\u001b[39m] \u001b[38;5;241m=\u001b[39m [\u001b[38;5;241m100\u001b[39m,\u001b[38;5;241m100\u001b[39m]\n\u001b[0;32m      3\u001b[0m runs_ser\n",
      "\u001b[1;31mNameError\u001b[0m: name 'runs_ser' is not defined"
     ]
    }
   ],
   "source": [
    "#slicing\n",
    "\"\"\"runs_ser[2:4] = [100,100]\n",
    "runs_ser\"\"\""
   ]
  },
  {
   "cell_type": "raw",
   "id": "2eb399cb",
   "metadata": {},
   "source": [
    "#using index label\n",
    "data['2 States(2014)'] = 'Alia bhatt\n",
    "data"
   ]
  },
  {
   "cell_type": "code",
   "execution_count": null,
   "id": "db84776e",
   "metadata": {},
   "outputs": [],
   "source": []
  },
  {
   "cell_type": "markdown",
   "id": "4c4a42d7",
   "metadata": {},
   "source": [
    "## Series with PythonFunctionalities"
   ]
  },
  {
   "cell_type": "code",
   "execution_count": 38,
   "id": "8424d70f",
   "metadata": {},
   "outputs": [
    {
     "name": "stdout",
     "output_type": "stream",
     "text": [
      "301\n"
     ]
    }
   ],
   "source": [
    "#len/type/dir/sorted/max/min\n",
    "print(len(data))"
   ]
  },
  {
   "cell_type": "code",
   "execution_count": 39,
   "id": "0f269993",
   "metadata": {},
   "outputs": [
    {
     "data": {
      "text/plain": [
       "maths       67\n",
       "english    100\n",
       "science     89\n",
       "hindi      100\n",
       "sst         90\n",
       "Name: Rahul ke marks, dtype: int64"
      ]
     },
     "execution_count": 39,
     "metadata": {},
     "output_type": "execute_result"
    }
   ],
   "source": [
    "#type conversion\n",
    "marks_series"
   ]
  },
  {
   "cell_type": "code",
   "execution_count": 40,
   "id": "35d2ef47",
   "metadata": {},
   "outputs": [
    {
     "data": {
      "text/plain": [
       "[67, 100, 89, 100, 90]"
      ]
     },
     "execution_count": 40,
     "metadata": {},
     "output_type": "execute_result"
    }
   ],
   "source": [
    "list(marks_series)"
   ]
  },
  {
   "cell_type": "code",
   "execution_count": 41,
   "id": "d2b3abcd",
   "metadata": {},
   "outputs": [
    {
     "data": {
      "text/plain": [
       "False"
      ]
     },
     "execution_count": 41,
     "metadata": {},
     "output_type": "execute_result"
    }
   ],
   "source": [
    "#membership operator\n",
    "' 2 States (2014)' in data"
   ]
  },
  {
   "cell_type": "code",
   "execution_count": 43,
   "id": "f432b310",
   "metadata": {},
   "outputs": [
    {
     "data": {
      "text/plain": [
       "False"
      ]
     },
     "execution_count": 43,
     "metadata": {},
     "output_type": "execute_result"
    }
   ],
   "source": [
    "'Alia Bhatt' in data\n",
    "#both wrong"
   ]
  },
  {
   "cell_type": "code",
   "execution_count": 44,
   "id": "7995fe55",
   "metadata": {},
   "outputs": [
    {
     "data": {
      "text/plain": [
       "maths      167\n",
       "english    200\n",
       "science    189\n",
       "hindi      200\n",
       "sst        190\n",
       "Name: Rahul ke marks, dtype: int64"
      ]
     },
     "execution_count": 44,
     "metadata": {},
     "output_type": "execute_result"
    }
   ],
   "source": [
    "#Arithmatic operators(Broadcasting)\n",
    "100 + marks_series"
   ]
  },
  {
   "cell_type": "code",
   "execution_count": 48,
   "id": "4b6ad5e7",
   "metadata": {},
   "outputs": [
    {
     "data": {
      "text/plain": [
       "maths      False\n",
       "english    False\n",
       "science    False\n",
       "hindi      False\n",
       "sst        False\n",
       "Name: Rahul ke marks, dtype: bool"
      ]
     },
     "execution_count": 48,
     "metadata": {},
     "output_type": "execute_result"
    }
   ],
   "source": [
    "marks_series >= 160"
   ]
  },
  {
   "cell_type": "markdown",
   "id": "55eb701e",
   "metadata": {},
   "source": [
    "## Plotting Graph on Series"
   ]
  },
  {
   "cell_type": "code",
   "execution_count": 49,
   "id": "4fd352b2",
   "metadata": {},
   "outputs": [
    {
     "data": {
      "text/plain": [
       "<Axes: >"
      ]
     },
     "execution_count": 49,
     "metadata": {},
     "output_type": "execute_result"
    },
    {
     "data": {
      "image/png": "[encoded data removed]",
      "text/plain": [
       "<Figure size 640x480 with 1 Axes>"
      ]
     },
     "metadata": {},
     "output_type": "display_data"
    }
   ],
   "source": [
    "data.plot()"
   ]
  },
  {
   "cell_type": "raw",
   "id": "47c151e5",
   "metadata": {},
   "source": [
    "movies.value_counts().head(20).plot(kind='bar')"
   ]
  },
  {
   "cell_type": "markdown",
   "id": "982aa646",
   "metadata": {},
   "source": []
  },
  {
   "cell_type": "code",
   "execution_count": null,
   "id": "5ff9507f",
   "metadata": {},
   "outputs": [],
   "source": []
  },
  {
   "cell_type": "code",
   "execution_count": null,
   "id": "cacbdeb4",
   "metadata": {},
   "outputs": [],
   "source": []
  },
  {
   "cell_type": "markdown",
   "id": "dab28789",
   "metadata": {},
   "source": [
    "# Data Frame"
   ]
  },
  {
   "cell_type": "code",
   "execution_count": 1,
   "id": "0213838d",
   "metadata": {},
   "outputs": [],
   "source": [
    "import numpy as np\n",
    "import pandas as pd"
   ]
  },
  {
   "cell_type": "markdown",
   "id": "e37b4e18",
   "metadata": {},
   "source": [
    "### Creating data frame"
   ]
  },
  {
   "cell_type": "code",
   "execution_count": 3,
   "id": "f7af3a77",
   "metadata": {},
   "outputs": [
    {
     "data": {
      "text/html": [
       "<div>\n",
       "<style scoped>\n",
       "    .dataframe tbody tr th:only-of-type {\n",
       "        vertical-align: middle;\n",
       "    }\n",
       "\n",
       "    .dataframe tbody tr th {\n",
       "        vertical-align: top;\n",
       "    }\n",
       "\n",
       "    .dataframe thead th {\n",
       "        text-align: right;\n",
       "    }\n",
       "</style>\n",
       "<table border=\"1\" class=\"dataframe\">\n",
       "  <thead>\n",
       "    <tr style=\"text-align: right;\">\n",
       "      <th></th>\n",
       "      <th>iq</th>\n",
       "      <th>marks</th>\n",
       "      <th>package</th>\n",
       "    </tr>\n",
       "  </thead>\n",
       "  <tbody>\n",
       "    <tr>\n",
       "      <th>0</th>\n",
       "      <td>100</td>\n",
       "      <td>80</td>\n",
       "      <td>10</td>\n",
       "    </tr>\n",
       "    <tr>\n",
       "      <th>1</th>\n",
       "      <td>90</td>\n",
       "      <td>70</td>\n",
       "      <td>7</td>\n",
       "    </tr>\n",
       "    <tr>\n",
       "      <th>2</th>\n",
       "      <td>120</td>\n",
       "      <td>80</td>\n",
       "      <td>2</td>\n",
       "    </tr>\n",
       "  </tbody>\n",
       "</table>\n",
       "</div>"
      ],
      "text/plain": [
       "    iq  marks  package\n",
       "0  100     80       10\n",
       "1   90     70        7\n",
       "2  120     80        2"
      ]
     },
     "execution_count": 3,
     "metadata": {},
     "output_type": "execute_result"
    }
   ],
   "source": [
    "#using list\n",
    "student_data = [\n",
    "    [100,80,10],\n",
    "    [90,70, 7],\n",
    "    [120,80,2]\n",
    "]\n",
    "pd.DataFrame(student_data, columns = ['iq','marks','package'])"
   ]
  },
  {
   "cell_type": "code",
   "execution_count": 5,
   "id": "d5b4d738",
   "metadata": {},
   "outputs": [],
   "source": [
    "#using dictionary\n",
    "stu_dic = {'iq': [100,90,84,22],\n",
    "          'marks': [80,70,100,50],\n",
    "          'package':[10,7,14,2]\n",
    "          }\n",
    "students = pd.DataFrame(stu_dic)"
   ]
  },
  {
   "cell_type": "code",
   "execution_count": null,
   "id": "d5e010d3",
   "metadata": {},
   "outputs": [],
   "source": [
    "# using CSV\n",
    "df = pd.read_csv"
   ]
  }
 ],
 "metadata": {
  "kernelspec": {
   "display_name": "Python 3 (ipykernel)",
   "language": "python",
   "name": "python3"
  },
  "language_info": {
   "codemirror_mode": {
    "name": "ipython",
    "version": 3
   },
   "file_extension": ".py",
   "mimetype": "text/x-python",
   "name": "python",
   "nbconvert_exporter": "python",
   "pygments_lexer": "ipython3",
   "version": "3.11.3"
  }
 },
 "nbformat": 4,
 "nbformat_minor": 5
}
