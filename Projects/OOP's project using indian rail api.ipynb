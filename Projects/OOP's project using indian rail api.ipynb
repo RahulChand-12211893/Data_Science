{
 "cells": [
  {
   "cell_type": "markdown",
   "id": "5835c716",
   "metadata": {},
   "source": [
    "## OOP's project"
   ]
  },
  {
   "cell_type": "markdown",
   "id": "6a8b1abf",
   "metadata": {},
   "source": [
    "#### API:- Indian rail api\n",
    "- http://indianrailapi.com/api/v2/TrainSchedule/apikey/<apikey>/TrainNumber/<TrainNumber>/\n",
    "#### API key:- from indian rail api site\n",
    "#### json:- https://jsonviewer.stack.hu/"
   ]
  },
  {
   "cell_type": "code",
   "execution_count": 1,
   "id": "d05637f3",
   "metadata": {},
   "outputs": [
    {
     "name": "stdout",
     "output_type": "stream",
     "text": [
      "\"how would u like to proceed?\n",
      "              1. Enter 1 to check live train status\n",
      "              2. Enter 2 to ckeck PNR\n",
      "              3. Enter 3 to check train schedule: 3\n",
      "Enter the train no: 12222\n"
     ]
    }
   ],
   "source": [
    "import requests\n",
    "class IRCTC:\n",
    "    def __init__(self):\n",
    "        user_input = input(\"\"\"\"how would u like to proceed?\n",
    "              1. Enter 1 to check live train status\n",
    "              2. Enter 2 to ckeck PNR\n",
    "              3. Enter 3 to check train schedule: \"\"\")\n",
    "        if user_input == \"1\":\n",
    "            print(\"Live train status\")\n",
    "        elif user_input == \"2\":\n",
    "            print(\"PNR\")\n",
    "        else:\n",
    "            self.train_schedule()\n",
    "    \n",
    "    def train_schedule(self):\n",
    "        train_no = input(\"Enter the train no: \")\n",
    "        self.fetch_data(train_no)\n",
    "        \n",
    "    def fetch_data(self,train_no):\n",
    "        data = requests.get(\"https://indianrailapi.com/api/v2/TrainSchedule/apikey/2de76d9f0446185f2c37fdf192166a95/TrainNumber/{}\".format(train_no))\n",
    "        \n",
    "        data = data.json()\n",
    "        print(data['Route'])\n",
    "        for i in data['Route']:\n",
    "            print(i['StationName'], \"|\", i[\"ArrivalTime\"])\n",
    "        \n",
    "obj = IRCTC()"
   ]
  },
  {
   "cell_type": "code",
   "execution_count": null,
   "id": "d15a7651",
   "metadata": {},
   "outputs": [],
   "source": []
  }
 ],
 "metadata": {
  "kernelspec": {
   "display_name": "Python 3 (ipykernel)",
   "language": "python",
   "name": "python3"
  },
  "language_info": {
   "codemirror_mode": {
    "name": "ipython",
    "version": 3
   },
   "file_extension": ".py",
   "mimetype": "text/x-python",
   "name": "python",
   "nbconvert_exporter": "python",
   "pygments_lexer": "ipython3",
   "version": "3.11.3"
  }
 },
 "nbformat": 4,
 "nbformat_minor": 5
}
